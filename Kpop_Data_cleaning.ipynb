{
 "cells": [
  {
   "cell_type": "markdown",
   "id": "0064b92c",
   "metadata": {},
   "source": [
    "# Part 1: Data Collection & Cleaning"
   ]
  },
  {
   "cell_type": "code",
   "execution_count": 1,
   "id": "0efe3464",
   "metadata": {},
   "outputs": [],
   "source": [
    "import pandas as pd\n",
    "import numpy as np"
   ]
  },
  {
   "cell_type": "markdown",
   "id": "65193533",
   "metadata": {},
   "source": [
    "Import Data"
   ]
  },
  {
   "cell_type": "code",
   "execution_count": 2,
   "id": "e2758bbe",
   "metadata": {},
   "outputs": [],
   "source": [
    "df = pd.read_excel(\"KPOP DATA.xlsx\")"
   ]
  },
  {
   "cell_type": "code",
   "execution_count": 3,
   "id": "ea7a785f",
   "metadata": {},
   "outputs": [
    {
     "data": {
      "text/html": [
       "<div>\n",
       "<style scoped>\n",
       "    .dataframe tbody tr th:only-of-type {\n",
       "        vertical-align: middle;\n",
       "    }\n",
       "\n",
       "    .dataframe tbody tr th {\n",
       "        vertical-align: top;\n",
       "    }\n",
       "\n",
       "    .dataframe thead th {\n",
       "        text-align: right;\n",
       "    }\n",
       "</style>\n",
       "<table border=\"1\" class=\"dataframe\">\n",
       "  <thead>\n",
       "    <tr style=\"text-align: right;\">\n",
       "      <th></th>\n",
       "      <th>Timestamp</th>\n",
       "      <th>Which is your favourite K-Pop group?</th>\n",
       "      <th>Is K-Pop popular in your country?</th>\n",
       "      <th>Why do you like K-Pop?</th>\n",
       "      <th>When did you start listening to K-Pop?</th>\n",
       "      <th>Do you listen to K-Pop male groups more than girl group songs?</th>\n",
       "      <th>How many hours do you spend listening to K-Pop?</th>\n",
       "      <th>Do you watch K-Pop Youtube videos?</th>\n",
       "      <th>If you do watch K-Pop music videos, how long do you spend watching them?</th>\n",
       "      <th>Would you say that you are obsessed with K-Pop?</th>\n",
       "      <th>...</th>\n",
       "      <th>Has consuming K-Pop affected your personal life in the following ways?</th>\n",
       "      <th>Have you experienced any positive effects after consuming K-Pop?</th>\n",
       "      <th>On an average, in one year, how much do you spend on K-Pop merchandise?</th>\n",
       "      <th>If you do spend money on K-Pop merchandise, where do you get money from?</th>\n",
       "      <th>Do you attend K-Pop concerts?</th>\n",
       "      <th>What is the craziest thing you have done in your pursuit and love for K-Pop?</th>\n",
       "      <th>How old are you?</th>\n",
       "      <th>Which country are you from?</th>\n",
       "      <th>What is your profession?</th>\n",
       "      <th>What is your gender?</th>\n",
       "    </tr>\n",
       "  </thead>\n",
       "  <tbody>\n",
       "    <tr>\n",
       "      <th>0</th>\n",
       "      <td>2019/02/23 4:04:31 AM GMT+5:30</td>\n",
       "      <td>BTS</td>\n",
       "      <td>Its gaining popularity</td>\n",
       "      <td>Its different from the usual music. I like som...</td>\n",
       "      <td>1 -2 years ago</td>\n",
       "      <td>Its about the music, not the gender</td>\n",
       "      <td>5 or more</td>\n",
       "      <td>Yes</td>\n",
       "      <td>2-3 hours</td>\n",
       "      <td>Not sure</td>\n",
       "      <td>...</td>\n",
       "      <td>Led to you being cajoled (made fun of) by clas...</td>\n",
       "      <td>Reduced stress/anxiety/depression</td>\n",
       "      <td>50 - 100 $</td>\n",
       "      <td>I have a full - time job</td>\n",
       "      <td>Yes</td>\n",
       "      <td>Missed days of work and school to attend concerts</td>\n",
       "      <td>15 - 20 years</td>\n",
       "      <td>A country in the UK</td>\n",
       "      <td>Sales</td>\n",
       "      <td>Female</td>\n",
       "    </tr>\n",
       "    <tr>\n",
       "      <th>1</th>\n",
       "      <td>2019/02/23 4:04:38 AM GMT+5:30</td>\n",
       "      <td>BTS</td>\n",
       "      <td>Its gaining popularity</td>\n",
       "      <td>Its different from the usual music. I like som...</td>\n",
       "      <td>3-4 years ago</td>\n",
       "      <td>I listen to both</td>\n",
       "      <td>2-4 hours</td>\n",
       "      <td>Yes</td>\n",
       "      <td>2-3 hours</td>\n",
       "      <td>Yes</td>\n",
       "      <td>...</td>\n",
       "      <td>Led to you being cajoled (made fun of) by clas...</td>\n",
       "      <td>Made friends who are like-minded</td>\n",
       "      <td>Below 50$</td>\n",
       "      <td>Working part-time</td>\n",
       "      <td>I want to, but the K-Pop groups don't come to ...</td>\n",
       "      <td>Listened to K-Pop without studying or working ...</td>\n",
       "      <td>15 - 20 years</td>\n",
       "      <td>A country in the UK</td>\n",
       "      <td>Student</td>\n",
       "      <td>Female</td>\n",
       "    </tr>\n",
       "    <tr>\n",
       "      <th>2</th>\n",
       "      <td>2019/02/23 4:04:56 AM GMT+5:30</td>\n",
       "      <td>BTS;MONSTA X</td>\n",
       "      <td>Its gaining popularity</td>\n",
       "      <td>Its different from the usual music. I like som...</td>\n",
       "      <td>More than 4 years ago</td>\n",
       "      <td>Its about the music, not the gender</td>\n",
       "      <td>2-4 hours</td>\n",
       "      <td>Yes</td>\n",
       "      <td>2-3 hours</td>\n",
       "      <td>No</td>\n",
       "      <td>...</td>\n",
       "      <td>Led to you being cajoled (made fun of) by clas...</td>\n",
       "      <td>Made friends who are like-minded</td>\n",
       "      <td>50 - 100 $</td>\n",
       "      <td>Working part-time</td>\n",
       "      <td>Yes</td>\n",
       "      <td>Nothing as such</td>\n",
       "      <td>15 - 20 years</td>\n",
       "      <td>Other European countries</td>\n",
       "      <td>Student</td>\n",
       "      <td>Female</td>\n",
       "    </tr>\n",
       "    <tr>\n",
       "      <th>3</th>\n",
       "      <td>2019/02/23 4:04:58 AM GMT+5:30</td>\n",
       "      <td>BTS</td>\n",
       "      <td>Its gaining popularity</td>\n",
       "      <td>Its different from the usual music. I like som...</td>\n",
       "      <td>3-4 years ago</td>\n",
       "      <td>I listen to both</td>\n",
       "      <td>5 or more</td>\n",
       "      <td>Yes</td>\n",
       "      <td>3-4 hours</td>\n",
       "      <td>No</td>\n",
       "      <td>...</td>\n",
       "      <td>Led to you being cajoled (made fun of) by clas...</td>\n",
       "      <td>Reduced stress/anxiety/depression</td>\n",
       "      <td>50 - 100 $</td>\n",
       "      <td>Working part-time</td>\n",
       "      <td>Yes</td>\n",
       "      <td>Nothing as such</td>\n",
       "      <td>21 - 26 years</td>\n",
       "      <td>USA</td>\n",
       "      <td>Student</td>\n",
       "      <td>Female</td>\n",
       "    </tr>\n",
       "    <tr>\n",
       "      <th>4</th>\n",
       "      <td>2019/02/23 4:05:12 AM GMT+5:30</td>\n",
       "      <td>BTS</td>\n",
       "      <td>Yes</td>\n",
       "      <td>Its different from the usual music. I like som...</td>\n",
       "      <td>3-4 years ago</td>\n",
       "      <td>Yes</td>\n",
       "      <td>5 or more</td>\n",
       "      <td>Yes</td>\n",
       "      <td>2-3 hours</td>\n",
       "      <td>Not sure</td>\n",
       "      <td>...</td>\n",
       "      <td>Led to you being cajoled (made fun of) by clas...</td>\n",
       "      <td>Reduced stress/anxiety/depression</td>\n",
       "      <td>100 - 200$</td>\n",
       "      <td>Parents</td>\n",
       "      <td>I want to, but the K-Pop groups don't come to ...</td>\n",
       "      <td>Nothing as such</td>\n",
       "      <td>15 - 20 years</td>\n",
       "      <td>USA</td>\n",
       "      <td>Student</td>\n",
       "      <td>Female</td>\n",
       "    </tr>\n",
       "  </tbody>\n",
       "</table>\n",
       "<p>5 rows × 23 columns</p>\n",
       "</div>"
      ],
      "text/plain": [
       "                        Timestamp Which is your favourite K-Pop group?  \\\n",
       "0  2019/02/23 4:04:31 AM GMT+5:30                                  BTS   \n",
       "1  2019/02/23 4:04:38 AM GMT+5:30                                  BTS   \n",
       "2  2019/02/23 4:04:56 AM GMT+5:30                         BTS;MONSTA X   \n",
       "3  2019/02/23 4:04:58 AM GMT+5:30                                  BTS   \n",
       "4  2019/02/23 4:05:12 AM GMT+5:30                                  BTS   \n",
       "\n",
       "  Is K-Pop popular in your country?   \\\n",
       "0             Its gaining popularity   \n",
       "1             Its gaining popularity   \n",
       "2             Its gaining popularity   \n",
       "3             Its gaining popularity   \n",
       "4                                Yes   \n",
       "\n",
       "                              Why do you like K-Pop?  \\\n",
       "0  Its different from the usual music. I like som...   \n",
       "1  Its different from the usual music. I like som...   \n",
       "2  Its different from the usual music. I like som...   \n",
       "3  Its different from the usual music. I like som...   \n",
       "4  Its different from the usual music. I like som...   \n",
       "\n",
       "  When did you start listening to K-Pop?  \\\n",
       "0                         1 -2 years ago   \n",
       "1                          3-4 years ago   \n",
       "2                  More than 4 years ago   \n",
       "3                          3-4 years ago   \n",
       "4                          3-4 years ago   \n",
       "\n",
       "  Do you listen to K-Pop male groups more than girl group songs?  \\\n",
       "0                Its about the music, not the gender               \n",
       "1                                   I listen to both               \n",
       "2                Its about the music, not the gender               \n",
       "3                                   I listen to both               \n",
       "4                                                Yes               \n",
       "\n",
       "  How many hours do you spend listening to K-Pop?  \\\n",
       "0                                       5 or more   \n",
       "1                                       2-4 hours   \n",
       "2                                       2-4 hours   \n",
       "3                                       5 or more   \n",
       "4                                       5 or more   \n",
       "\n",
       "  Do you watch K-Pop Youtube videos?  \\\n",
       "0                                Yes   \n",
       "1                                Yes   \n",
       "2                                Yes   \n",
       "3                                Yes   \n",
       "4                                Yes   \n",
       "\n",
       "  If you do watch K-Pop music videos, how long do you spend watching them?  \\\n",
       "0                                          2-3 hours                         \n",
       "1                                          2-3 hours                         \n",
       "2                                          2-3 hours                         \n",
       "3                                          3-4 hours                         \n",
       "4                                          2-3 hours                         \n",
       "\n",
       "  Would you say that you are obsessed with K-Pop?  ...  \\\n",
       "0                                        Not sure  ...   \n",
       "1                                             Yes  ...   \n",
       "2                                              No  ...   \n",
       "3                                              No  ...   \n",
       "4                                        Not sure  ...   \n",
       "\n",
       "  Has consuming K-Pop affected your personal life in the following ways?  \\\n",
       "0  Led to you being cajoled (made fun of) by clas...                       \n",
       "1  Led to you being cajoled (made fun of) by clas...                       \n",
       "2  Led to you being cajoled (made fun of) by clas...                       \n",
       "3  Led to you being cajoled (made fun of) by clas...                       \n",
       "4  Led to you being cajoled (made fun of) by clas...                       \n",
       "\n",
       "  Have you experienced any positive effects after consuming K-Pop?   \\\n",
       "0                  Reduced stress/anxiety/depression                  \n",
       "1                   Made friends who are like-minded                  \n",
       "2                   Made friends who are like-minded                  \n",
       "3                  Reduced stress/anxiety/depression                  \n",
       "4                  Reduced stress/anxiety/depression                  \n",
       "\n",
       "  On an average, in one year, how much do you spend on K-Pop merchandise?  \\\n",
       "0                                         50 - 100 $                        \n",
       "1                                          Below 50$                        \n",
       "2                                         50 - 100 $                        \n",
       "3                                         50 - 100 $                        \n",
       "4                                         100 - 200$                        \n",
       "\n",
       "  If you do spend money on K-Pop merchandise, where do you get money from?  \\\n",
       "0                           I have a full - time job                         \n",
       "1                                  Working part-time                         \n",
       "2                                  Working part-time                         \n",
       "3                                  Working part-time                         \n",
       "4                                            Parents                         \n",
       "\n",
       "                       Do you attend K-Pop concerts?  \\\n",
       "0                                                Yes   \n",
       "1  I want to, but the K-Pop groups don't come to ...   \n",
       "2                                                Yes   \n",
       "3                                                Yes   \n",
       "4  I want to, but the K-Pop groups don't come to ...   \n",
       "\n",
       "  What is the craziest thing you have done in your pursuit and love for K-Pop?  \\\n",
       "0  Missed days of work and school to attend concerts                             \n",
       "1  Listened to K-Pop without studying or working ...                             \n",
       "2                                    Nothing as such                             \n",
       "3                                    Nothing as such                             \n",
       "4                                    Nothing as such                             \n",
       "\n",
       "  How old are you? Which country are you from? What is your profession?  \\\n",
       "0    15 - 20 years         A country in the UK                    Sales   \n",
       "1    15 - 20 years         A country in the UK                  Student   \n",
       "2    15 - 20 years    Other European countries                  Student   \n",
       "3    21 - 26 years                         USA                  Student   \n",
       "4    15 - 20 years                         USA                  Student   \n",
       "\n",
       "  What is your gender?  \n",
       "0               Female  \n",
       "1               Female  \n",
       "2               Female  \n",
       "3               Female  \n",
       "4               Female  \n",
       "\n",
       "[5 rows x 23 columns]"
      ]
     },
     "execution_count": 3,
     "metadata": {},
     "output_type": "execute_result"
    }
   ],
   "source": [
    "df.head()"
   ]
  },
  {
   "cell_type": "markdown",
   "id": "75a6a0fb",
   "metadata": {},
   "source": [
    "## Data Cleaning"
   ]
  },
  {
   "cell_type": "code",
   "execution_count": 4,
   "id": "8dccf9d7",
   "metadata": {},
   "outputs": [],
   "source": [
    "# Remove the leading and trailing white space in the data frame\n",
    "def trim(dataset):\n",
    "    trim = lambda x: x.strip() if type(x) is str else x\n",
    "    return dataset.applymap(trim)\n",
    "df = trim(df)"
   ]
  },
  {
   "cell_type": "code",
   "execution_count": 5,
   "id": "1fd2f013",
   "metadata": {},
   "outputs": [],
   "source": [
    "# Remove Timestamp column using index\n",
    "df.drop('Timestamp',axis=1,inplace=True)"
   ]
  },
  {
   "cell_type": "code",
   "execution_count": 6,
   "id": "6d299342",
   "metadata": {
    "scrolled": true
   },
   "outputs": [
    {
     "data": {
      "text/plain": [
       "Index(['Which is your favourite K-Pop group?',\n",
       "       'Is K-Pop popular in your country? ', 'Why do you like K-Pop?',\n",
       "       'When did you start listening to K-Pop?',\n",
       "       'Do you listen to K-Pop male groups more than girl group songs?',\n",
       "       'How many hours do you spend listening to K-Pop?',\n",
       "       'Do you watch K-Pop Youtube videos?',\n",
       "       'If you do watch K-Pop music videos, how long do you spend watching them?',\n",
       "       'Would you say that you are obsessed with K-Pop?',\n",
       "       'What do you do to keep up with K-Pop news?',\n",
       "       'Has K-Pop led you to pursue any of the following?',\n",
       "       'Has consuming K-Pop taken away most of your time?',\n",
       "       'Has consuming K-Pop affected your personal life in the following ways?',\n",
       "       'Have you experienced any positive effects after consuming K-Pop? ',\n",
       "       'On an average, in one year, how much do you spend on K-Pop merchandise?',\n",
       "       'If you do spend money on K-Pop merchandise, where do you get money from?',\n",
       "       'Do you attend K-Pop concerts?',\n",
       "       'What is the craziest thing you have done in your pursuit and love for K-Pop?',\n",
       "       'How old are you?', 'Which country are you from?',\n",
       "       'What is your profession?', 'What is your gender?'],\n",
       "      dtype='object')"
      ]
     },
     "execution_count": 6,
     "metadata": {},
     "output_type": "execute_result"
    }
   ],
   "source": [
    "df.columns"
   ]
  },
  {
   "cell_type": "code",
   "execution_count": 7,
   "id": "1c5df17e",
   "metadata": {},
   "outputs": [],
   "source": [
    "# Rename long column names\n",
    "df = df.rename(columns = {'Which is your favourite K-Pop group?': 'fav_grp',\n",
    "                         'Is K-Pop popular in your country? ': 'popular',\n",
    "                         'Why do you like K-Pop?': 'reason',\n",
    "                         'When did you start listening to K-Pop?': 'start_time',\n",
    "                         'Do you listen to K-Pop male groups more than girl group songs?': 'gender_pref',\n",
    "                         'How many hours do you spend listening to K-Pop?': 'daily_music_hr',\n",
    "                         'Do you watch K-Pop Youtube videos?': 'watch_MV',\n",
    "                         'If you do watch K-Pop music videos, how long do you spend watching them?': 'daily_watch_hr',\n",
    "                         'Would you say that you are obsessed with K-Pop?': 'obsessed',\n",
    "                         'What do you do to keep up with K-Pop news?': 'news_medium',\n",
    "                         'Has K-Pop led you to pursue any of the following?': 'pursuit',\n",
    "                         'Has consuming K-Pop taken away most of your time?': 'taken_time',\n",
    "                         'Has consuming K-Pop affected your personal life in the following ways?': 'affect_life',\n",
    "                         'Have you experienced any positive effects after consuming K-Pop? ': 'pos_effects',\n",
    "                         'On an average, in one year, how much do you spend on K-Pop merchandise?': 'yr_spend',\n",
    "                         'If you do spend money on K-Pop merchandise, where do you get money from?': 'money_src',\n",
    "                         'Do you attend K-Pop concerts?': 'concerts',\n",
    "                         'What is the craziest thing you have done in your pursuit and love for K-Pop?': 'crazy_thing',\n",
    "                         'How old are you?': 'age',\n",
    "                         'Which country are you from?': 'country',\n",
    "                         'What is your profession?': 'career',\n",
    "                         'What is your gender?': 'gender'})"
   ]
  },
  {
   "cell_type": "code",
   "execution_count": 8,
   "id": "b3c1894c",
   "metadata": {},
   "outputs": [
    {
     "data": {
      "text/plain": [
       "Index(['fav_grp', 'popular', 'reason', 'start_time', 'gender_pref',\n",
       "       'daily_music_hr', 'watch_MV', 'daily_watch_hr', 'obsessed',\n",
       "       'news_medium', 'pursuit', 'taken_time', 'affect_life', 'pos_effects',\n",
       "       'yr_spend', 'money_src', 'concerts', 'crazy_thing', 'age', 'country',\n",
       "       'career', 'gender'],\n",
       "      dtype='object')"
      ]
     },
     "execution_count": 8,
     "metadata": {},
     "output_type": "execute_result"
    }
   ],
   "source": [
    "df.columns"
   ]
  },
  {
   "cell_type": "code",
   "execution_count": 9,
   "id": "ebe973eb",
   "metadata": {},
   "outputs": [
    {
     "data": {
      "text/plain": [
       "fav_grp           0\n",
       "popular           0\n",
       "reason            0\n",
       "start_time        0\n",
       "gender_pref       0\n",
       "daily_music_hr    0\n",
       "watch_MV          0\n",
       "daily_watch_hr    5\n",
       "obsessed          0\n",
       "news_medium       1\n",
       "pursuit           0\n",
       "taken_time        0\n",
       "affect_life       5\n",
       "pos_effects       0\n",
       "yr_spend          0\n",
       "money_src         1\n",
       "concerts          0\n",
       "crazy_thing       0\n",
       "age               0\n",
       "country           0\n",
       "career            0\n",
       "gender            0\n",
       "dtype: int64"
      ]
     },
     "execution_count": 9,
     "metadata": {},
     "output_type": "execute_result"
    }
   ],
   "source": [
    "# Check for null values\n",
    "df.isnull().sum()"
   ]
  },
  {
   "cell_type": "code",
   "execution_count": 10,
   "id": "57a48a42",
   "metadata": {},
   "outputs": [
    {
     "data": {
      "text/plain": [
       "fav_grp           0\n",
       "popular           0\n",
       "reason            0\n",
       "start_time        0\n",
       "gender_pref       0\n",
       "daily_music_hr    0\n",
       "watch_MV          0\n",
       "daily_watch_hr    5\n",
       "obsessed          0\n",
       "news_medium       0\n",
       "pursuit           0\n",
       "taken_time        0\n",
       "affect_life       0\n",
       "pos_effects       0\n",
       "yr_spend          0\n",
       "money_src         0\n",
       "concerts          0\n",
       "crazy_thing       0\n",
       "age               0\n",
       "country           0\n",
       "career            0\n",
       "gender            0\n",
       "dtype: int64"
      ]
     },
     "execution_count": 10,
     "metadata": {},
     "output_type": "execute_result"
    }
   ],
   "source": [
    "# Replace null values with None\n",
    "df['affect_life'].fillna('none',inplace = True)\n",
    "df['money_src'].fillna('none', inplace = True)\n",
    "df['news_medium'].fillna('none', inplace = True)\n",
    "df.isnull().sum()"
   ]
  },
  {
   "cell_type": "markdown",
   "id": "8d62f3f8",
   "metadata": {},
   "source": [
    "### Clean the \"daily_watch_hr\" column"
   ]
  },
  {
   "cell_type": "code",
   "execution_count": 11,
   "id": "9892eea5",
   "metadata": {},
   "outputs": [
    {
     "data": {
      "text/plain": [
       "daily_watch_hr\n",
       "1 hour                  118\n",
       "2-3 hours                84\n",
       "3-4 hours                20\n",
       "More than four hours     13\n",
       "Name: count, dtype: int64"
      ]
     },
     "execution_count": 11,
     "metadata": {},
     "output_type": "execute_result"
    }
   ],
   "source": [
    "df['daily_watch_hr'].value_counts()"
   ]
  },
  {
   "cell_type": "code",
   "execution_count": 12,
   "id": "03566cc4",
   "metadata": {},
   "outputs": [],
   "source": [
    "# replace the null with the average\n",
    "df['daily_watch_hr'].fillna(\"2.5\",inplace=True)"
   ]
  },
  {
   "cell_type": "code",
   "execution_count": 13,
   "id": "6bb359cd",
   "metadata": {},
   "outputs": [
    {
     "data": {
      "text/plain": [
       "daily_watch_hr\n",
       "1 hour       118\n",
       "2-3 hours     84\n",
       "3-4 hours     20\n",
       "4.5           13\n",
       "2.5            5\n",
       "Name: count, dtype: int64"
      ]
     },
     "execution_count": 13,
     "metadata": {},
     "output_type": "execute_result"
    }
   ],
   "source": [
    "# convert \"More than four hours\" to 4.5\n",
    "daily_mv = df['daily_watch_hr']\n",
    "daily_mv = daily_mv.str.replace('More than four hours', '4.5')\n",
    "daily_mv.value_counts()"
   ]
  },
  {
   "cell_type": "code",
   "execution_count": 14,
   "id": "39cc9731",
   "metadata": {},
   "outputs": [
    {
     "data": {
      "text/plain": [
       "daily_watch_hr\n",
       "1      118\n",
       "2-3     84\n",
       "3-4     20\n",
       "4.5     13\n",
       "2.5      5\n",
       "Name: count, dtype: int64"
      ]
     },
     "execution_count": 14,
     "metadata": {},
     "output_type": "execute_result"
    }
   ],
   "source": [
    "# parse the hours\n",
    "daily_mv = daily_mv.apply(lambda x: x.split(' ')[0])\n",
    "daily_mv.value_counts()"
   ]
  },
  {
   "cell_type": "code",
   "execution_count": 15,
   "id": "13078f6e",
   "metadata": {},
   "outputs": [],
   "source": [
    "# find the mean when some have ranges and others don't\n",
    "def split_mean(x):\n",
    "    split_num = x.split(\"-\")\n",
    "    if len(split_num) == 2:\n",
    "        return (float(split_num[0]) + float(split_num[1]))/2\n",
    "    else:\n",
    "        return float(x)\n",
    "daily_mv = daily_mv.apply(lambda x: split_mean(x))"
   ]
  },
  {
   "cell_type": "code",
   "execution_count": 16,
   "id": "0f93da93",
   "metadata": {},
   "outputs": [
    {
     "data": {
      "text/plain": [
       "daily_watch_hr\n",
       "1.0    118\n",
       "2.5     89\n",
       "3.5     20\n",
       "4.5     13\n",
       "Name: count, dtype: int64"
      ]
     },
     "execution_count": 16,
     "metadata": {},
     "output_type": "execute_result"
    }
   ],
   "source": [
    "df['daily_watch_hr'] = daily_mv\n",
    "df['daily_watch_hr'].value_counts()"
   ]
  },
  {
   "cell_type": "markdown",
   "id": "328a9e11",
   "metadata": {},
   "source": [
    "### Clean the \"yr_listened\" column"
   ]
  },
  {
   "cell_type": "code",
   "execution_count": 17,
   "id": "56f31b5c",
   "metadata": {},
   "outputs": [
    {
     "data": {
      "text/plain": [
       "start_time\n",
       "3-4 years ago                                                                                                                                                                                               89\n",
       "More than 4 years ago                                                                                                                                                                                       69\n",
       "1 -2 years ago                                                                                                                                                                                              66\n",
       "Less than a year ago                                                                                                                                                                                         7\n",
       "7 years ago                                                                                                                                                                                                  2\n",
       "Iâ€™ve been listening to it all my life basically, my cousins are Asian, and Iâ€™m mexican, so people think Iâ€™m just a koreaboo, when in reality Iâ€™ve only ever listened to korean and Chinese music     1\n",
       "7 years                                                                                                                                                                                                      1\n",
       "8+ years ago                                                                                                                                                                                                 1\n",
       "9 years, since 2010                                                                                                                                                                                          1\n",
       "About 6 years ago, I got introduced to 2ne1 which was their song called â€œI am the bestâ€. So sad they disbanded                                                                                           1\n",
       "Started in 2006                                                                                                                                                                                              1\n",
       "9 years coming April                                                                                                                                                                                         1\n",
       "Name: count, dtype: int64"
      ]
     },
     "execution_count": 17,
     "metadata": {},
     "output_type": "execute_result"
    }
   ],
   "source": [
    "df['start_time'].value_counts()"
   ]
  },
  {
   "cell_type": "code",
   "execution_count": 18,
   "id": "31a1a229",
   "metadata": {},
   "outputs": [
    {
     "data": {
      "text/plain": [
       "start_time\n",
       "3.5                     89\n",
       "4                       69\n",
       "1.5                     66\n",
       "1                        7\n",
       "6                        2\n",
       "7 years ago              2\n",
       "7 years                  1\n",
       "8+ years ago             1\n",
       "9 years, since 2010      1\n",
       "18                       1\n",
       "9 years coming April     1\n",
       "Name: count, dtype: int64"
      ]
     },
     "execution_count": 18,
     "metadata": {},
     "output_type": "execute_result"
    }
   ],
   "source": [
    "# Replace certain strings\n",
    "df['start_time'] = df['start_time'].str.replace(\"3-4 years ago\", \"3.5\")\n",
    "df['start_time'] = df['start_time'].str.replace(\"1 -2 years ago\", \"1.5\")\n",
    "df['start_time'] = df['start_time'].str.replace(\"More than 4 years ago\", \"4\")\n",
    "df['start_time'] = df['start_time'].str.replace(\"Less than a year ago\", \"1\")\n",
    "df['start_time'] = df['start_time'].str.replace(\"Iâ€™ve been listening to it all my life basically, my cousins are Asian, and Iâ€™m mexican, so people think Iâ€™m just a koreaboo, when in reality Iâ€™ve only ever listened to korean and Chinese music\", \"6\")\n",
    "df['start_time'] = df['start_time'].str.replace(\"About 6 years ago, I got introduced to 2ne1 which was their song called â€œI am the bestâ€. So sad they disbanded\",\"6\")\n",
    "df['start_time'] = df['start_time'].str.replace(\"Started in 2006\", \"18\")\n",
    "\n",
    "df['start_time'].value_counts()"
   ]
  },
  {
   "cell_type": "code",
   "execution_count": 19,
   "id": "d9d24973",
   "metadata": {},
   "outputs": [
    {
     "data": {
      "text/plain": [
       "start_time\n",
       "3.5    89\n",
       "4      69\n",
       "1.5    66\n",
       "1       7\n",
       "7       3\n",
       "6       2\n",
       "9       2\n",
       "8       1\n",
       "18      1\n",
       "Name: count, dtype: int64"
      ]
     },
     "execution_count": 19,
     "metadata": {},
     "output_type": "execute_result"
    }
   ],
   "source": [
    "# parse the years\n",
    "yrs_listen = df['start_time'].apply(lambda x: x.split(\" \")[0])\n",
    "# remove the + sign\n",
    "yrs_listen = yrs_listen.apply(lambda x: x.replace('+', ''))\n",
    "yrs_listen.value_counts()"
   ]
  },
  {
   "cell_type": "markdown",
   "id": "f6f09d9a",
   "metadata": {},
   "source": [
    "### Clean the \"daily_music_hr\" column"
   ]
  },
  {
   "cell_type": "code",
   "execution_count": 20,
   "id": "abecc29b",
   "metadata": {},
   "outputs": [
    {
     "data": {
      "text/plain": [
       "daily_music_hr\n",
       "2-4 hours                                                                                                                                                                                                                                                                                                                                                               106\n",
       "5 or more                                                                                                                                                                                                                                                                                                                                                                99\n",
       "Less than an hour                                                                                                                                                                                                                                                                                                                                                        11\n",
       "2020-07-24 00:00:00                                                                                                                                                                                                                                                                                                                                                       2\n",
       "Everyday                                                                                                                                                                                                                                                                                                                                                                  2\n",
       "It's depend on day. Usually one or two hours, sometimes more, sometimes, when I overeat kpop I need to do break.                                                                                                                                                                                                                                                          1\n",
       "Anytime I listen to music thatâ€™s all I listen to                                                                                                                                                                                                                                                                                                                        1\n",
       "Every time but only when I get the chance cause Iâ€™m busy with school .                                                                                                                                                                                                                                                                                                  1\n",
       "Hours on end                                                                                                                                                                                                                                                                                                                                                              1\n",
       "Whenever Iâ€™m listening to music, basically                                                                                                                                                                                                                                                                                                                              1\n",
       "Everyday, constantly                                                                                                                                                                                                                                                                                                                                                      1\n",
       "I don't rlly listen to music, music is like food to me. When I crave a song, I listen to it. So probably less than an hour? When Monsta X has comebacks I do stream (but it's just playing in the background sometimes my earphones are plugged in so I don't actually hear it)... I listen to it for almost the whole day I guess... gotta get those views and wins      1\n",
       "Eh                                                                                                                                                                                                                                                                                                                                                                        1\n",
       "Most of the time.                                                                                                                                                                                                                                                                                                                                                         1\n",
       "I mix in other songs in other languages too so very Day is different                                                                                                                                                                                                                                                                                                      1\n",
       "Idk depends on my mood. But I can liste during multiple hours definitely.                                                                                                                                                                                                                                                                                                 1\n",
       "The whole day almost                                                                                                                                                                                                                                                                                                                                                      1\n",
       "Any chance that i get. (I dont really count the hours)                                                                                                                                                                                                                                                                                                                    1\n",
       "All day                                                                                                                                                                                                                                                                                                                                                                   1\n",
       "depends if iâ€™m in the mood for it                                                                                                                                                                                                                                                                                                                                       1\n",
       "All the time.                                                                                                                                                                                                                                                                                                                                                             1\n",
       "Over half of my day (12+ hours)                                                                                                                                                                                                                                                                                                                                           1\n",
       "Itâ€™s mainly the only music I listen to anymore, I listen to music all the time                                                                                                                                                                                                                                                                                          1\n",
       "Almost all day                                                                                                                                                                                                                                                                                                                                                            1\n",
       "Nearly every hour unless im sleeping                                                                                                                                                                                                                                                                                                                                      1\n",
       "Name: count, dtype: int64"
      ]
     },
     "execution_count": 20,
     "metadata": {},
     "output_type": "execute_result"
    }
   ],
   "source": [
    "df['daily_music_hr'].value_counts()"
   ]
  },
  {
   "cell_type": "code",
   "execution_count": 21,
   "id": "b0599600",
   "metadata": {},
   "outputs": [],
   "source": [
    "# convert the timestamp with 5 or more\n",
    "df.iloc[156, 5] = \"5 or more\"\n",
    "df.iloc[170, 5] = \"5 or more\""
   ]
  },
  {
   "cell_type": "code",
   "execution_count": 22,
   "id": "e3b750fb",
   "metadata": {},
   "outputs": [
    {
     "data": {
      "text/plain": [
       "daily_music_hr\n",
       "3      106\n",
       "5      101\n",
       "10      22\n",
       "0.5     11\n",
       "Name: count, dtype: int64"
      ]
     },
     "execution_count": 22,
     "metadata": {},
     "output_type": "execute_result"
    }
   ],
   "source": [
    "#parse the hour\n",
    "df[\"daily_music_hr\"] = df[\"daily_music_hr\"].apply(lambda x: x.split(\" \")[0])\n",
    "\n",
    "for row in range(0, len(df['daily_music_hr'])):\n",
    "    if '2-4' in df.iloc[row,5]:\n",
    "        #put mean\n",
    "        df.iloc[row,5] = \"3\"\n",
    "    elif '5' in df.iloc[row,5]:\n",
    "        df.iloc[row,5] = \"5\"\n",
    "    elif 'Less' in df.iloc[row,5]:\n",
    "        df.iloc[row,5] = \"0.5\"\n",
    "    else:\n",
    "        df.iloc[row,5] = \"10\"\n",
    "df['daily_music_hr'].value_counts()"
   ]
  },
  {
   "cell_type": "markdown",
   "id": "a516c67d",
   "metadata": {},
   "source": [
    "### Clean the \"yr_spend\" column"
   ]
  },
  {
   "cell_type": "code",
   "execution_count": 23,
   "id": "3bb7fa24",
   "metadata": {},
   "outputs": [
    {
     "data": {
      "text/plain": [
       "yr_spend\n",
       "Below 50$                                                                                                                                         91\n",
       "50 - 100 $                                                                                                                                        57\n",
       "I don't spend anything on merchandise                                                                                                             49\n",
       "100 - 200$                                                                                                                                        25\n",
       "More than $200                                                                                                                                     1\n",
       "Depends month to month and what i want to buy                                                                                                      1\n",
       "What if you don't know, since everything you own that is K-Pop related were all gifts?                                                             1\n",
       "I've bought some albums over the past few years but its just like a xmas / bday thing i do so twice a year i just purchase however many i can      1\n",
       "Never until Monsta X existed and it's about $300 a year                                                                                            1\n",
       "Iâ€™ve spent 200-300 dollars, but i chose not to spend much more unless its clothing or a physical concert. Plus i rlly only ult stan 2 groups     1\n",
       "10?                                                                                                                                                1\n",
       "Below 30$                                                                                                                                          1\n",
       "I've only ever bought merchandise from the two concerts I've been too and that's it.                                                               1\n",
       "Kpop is an expensive hobby I go to concerts and buy albums so I would say Iâ€™ve spent more than 1k                                                1\n",
       "I spend less than $50 cuz I'm broke, but if I had money, I would probably spend $200+                                                              1\n",
       "I donâ€™t buy everything. I buy things if I feel I will use them                                                                                   1\n",
       "A lot I donâ€™t even want to know how much                                                                                                         1\n",
       "Iâ€™ve spent probably over $5,000 total on kpop merch (including tickets)                                                                          1\n",
       "Depends but usually not a lot.                                                                                                                     1\n",
       "I would like to but I don't have money                                                                                                             1\n",
       "Because Iâ€™m younger I donâ€™t have the money to spend on official kpop mercy but I do buy smaller things to represent the groups.                1\n",
       "$2,000                                                                                                                                             1\n",
       "Name: count, dtype: int64"
      ]
     },
     "execution_count": 23,
     "metadata": {},
     "output_type": "execute_result"
    }
   ],
   "source": [
    "df['yr_spend'].value_counts()"
   ]
  },
  {
   "cell_type": "code",
   "execution_count": 24,
   "id": "47f228ce",
   "metadata": {},
   "outputs": [
    {
     "data": {
      "text/plain": [
       "yr_spend\n",
       "50     91\n",
       "75     57\n",
       "0      49\n",
       "150    25\n",
       "500    16\n",
       "30      1\n",
       "10      1\n",
       "Name: count, dtype: int64"
      ]
     },
     "execution_count": 24,
     "metadata": {},
     "output_type": "execute_result"
    }
   ],
   "source": [
    "for row in range(0,len(df['yr_spend'])):\n",
    "    if \"Below 50\" in df.iloc[row,14]:\n",
    "        df.iloc[row,14] = \"50\"\n",
    "    elif \"50 - 100\" in df.iloc[row,14]:\n",
    "        df.iloc[row,14] = \"75\"\n",
    "    elif \"I don't spend anything on merchandise\" in df.iloc[row,14]:\n",
    "        df.iloc[row,14] = \"0\"\n",
    "    elif \"100 - 200\" in df.iloc[row,14]:\n",
    "        df.iloc[row,14] = \"150\"\n",
    "    elif \"Below 30\" in df.iloc[row,14]:\n",
    "        df.iloc[row,14] = \"30\"\n",
    "    elif \"10?\" in df.iloc[row,14]:\n",
    "        df.iloc[row,14] = \"10\"\n",
    "    else:\n",
    "        df.iloc[row,14] = \"500\"\n",
    "df['yr_spend'].value_counts()"
   ]
  },
  {
   "cell_type": "markdown",
   "id": "6c317599",
   "metadata": {},
   "source": [
    "### Clean the \"age\" column"
   ]
  },
  {
   "cell_type": "code",
   "execution_count": 25,
   "id": "da755f6e",
   "metadata": {},
   "outputs": [
    {
     "data": {
      "text/plain": [
       "age\n",
       "15 - 20 years    166\n",
       "21 - 26 years     37\n",
       "10 - 14 years     34\n",
       "27 - 30            3\n",
       "Name: count, dtype: int64"
      ]
     },
     "execution_count": 25,
     "metadata": {},
     "output_type": "execute_result"
    }
   ],
   "source": [
    "df['age'].value_counts()"
   ]
  },
  {
   "cell_type": "code",
   "execution_count": 26,
   "id": "0f57c1b6",
   "metadata": {},
   "outputs": [
    {
     "data": {
      "text/plain": [
       "age\n",
       "18    166\n",
       "24     37\n",
       "12     34\n",
       "29      3\n",
       "Name: count, dtype: int64"
      ]
     },
     "execution_count": 26,
     "metadata": {},
     "output_type": "execute_result"
    }
   ],
   "source": [
    "age = df['age'].apply(lambda x: x.split(\"y\")[0])\n",
    "age = age.str.replace(\" \",\"\")\n",
    "\n",
    "# replace the range with its mean value\n",
    "df['age'] = age.apply(lambda x: split_mean(x))\n",
    "\n",
    "# round up the age\n",
    "df['age'] = np.ceil(df['age']).astype(int)\n",
    "\n",
    "df['age'].value_counts()"
   ]
  },
  {
   "cell_type": "markdown",
   "id": "0db4a539",
   "metadata": {},
   "source": [
    "### Clean the \"fav_grp\" column"
   ]
  },
  {
   "cell_type": "code",
   "execution_count": 27,
   "id": "b2c23144",
   "metadata": {},
   "outputs": [
    {
     "data": {
      "text/plain": [
       "fav_grp\n",
       "BTS                                104\n",
       "EXO                                  7\n",
       "MONSTA X                             7\n",
       "Stray Kids                           7\n",
       "BTS;EXO;MONSTA X                     5\n",
       "                                  ... \n",
       "TVXQ                                 1\n",
       "G idle                               1\n",
       "Bigbang, GOT7 and all the above      1\n",
       "Wanna one                            1\n",
       "BTS;GOT 7                            1\n",
       "Name: count, Length: 93, dtype: int64"
      ]
     },
     "execution_count": 27,
     "metadata": {},
     "output_type": "execute_result"
    }
   ],
   "source": [
    "df['fav_grp'].value_counts()"
   ]
  },
  {
   "cell_type": "code",
   "execution_count": 28,
   "id": "2143b4ca",
   "metadata": {},
   "outputs": [],
   "source": [
    "# replace other notations as comma\n",
    "grp = df['fav_grp']\n",
    "grp = grp.apply(lambda x: x.lower().replace(\";\",\",\").replace(\" and \", \",\").replace(\", \",\",\").replace(\" / \",\",\").replace(\" & \",\",\").replace(\". \",\",\"))"
   ]
  },
  {
   "cell_type": "code",
   "execution_count": 29,
   "id": "1aca8366",
   "metadata": {},
   "outputs": [],
   "source": [
    "# count the number of groups they like\n",
    "def num_grp_like(df):\n",
    "    tmpArr = []\n",
    "    for i in range(0, len(df)):\n",
    "        num_grp = grp[i].count(\",\") + 1\n",
    "        tmpArr.append(num_grp)\n",
    "    return tmpArr"
   ]
  },
  {
   "cell_type": "markdown",
   "id": "456060da",
   "metadata": {},
   "source": [
    "#### Assign a new column counting the number of groups people like"
   ]
  },
  {
   "cell_type": "code",
   "execution_count": 30,
   "id": "e7ce13fc",
   "metadata": {},
   "outputs": [
    {
     "data": {
      "text/plain": [
       "num_grp_like\n",
       "1     165\n",
       "2      24\n",
       "3      17\n",
       "5      12\n",
       "4      10\n",
       "6       5\n",
       "7       3\n",
       "8       2\n",
       "37      1\n",
       "20      1\n",
       "Name: count, dtype: int64"
      ]
     },
     "execution_count": 30,
     "metadata": {},
     "output_type": "execute_result"
    }
   ],
   "source": [
    "df['num_grp_like'] = num_grp_like(df['fav_grp'])\n",
    "df['num_grp_like'] .value_counts()"
   ]
  },
  {
   "cell_type": "code",
   "execution_count": 31,
   "id": "d8b58162",
   "metadata": {},
   "outputs": [
    {
     "data": {
      "text/html": [
       "<div>\n",
       "<style scoped>\n",
       "    .dataframe tbody tr th:only-of-type {\n",
       "        vertical-align: middle;\n",
       "    }\n",
       "\n",
       "    .dataframe tbody tr th {\n",
       "        vertical-align: top;\n",
       "    }\n",
       "\n",
       "    .dataframe thead th {\n",
       "        text-align: right;\n",
       "    }\n",
       "</style>\n",
       "<table border=\"1\" class=\"dataframe\">\n",
       "  <thead>\n",
       "    <tr style=\"text-align: right;\">\n",
       "      <th></th>\n",
       "      <th>fav_grp</th>\n",
       "      <th>popular</th>\n",
       "      <th>reason</th>\n",
       "      <th>start_time</th>\n",
       "      <th>gender_pref</th>\n",
       "      <th>daily_music_hr</th>\n",
       "      <th>watch_MV</th>\n",
       "      <th>daily_watch_hr</th>\n",
       "      <th>obsessed</th>\n",
       "      <th>news_medium</th>\n",
       "      <th>...</th>\n",
       "      <th>pos_effects</th>\n",
       "      <th>yr_spend</th>\n",
       "      <th>money_src</th>\n",
       "      <th>concerts</th>\n",
       "      <th>crazy_thing</th>\n",
       "      <th>age</th>\n",
       "      <th>country</th>\n",
       "      <th>career</th>\n",
       "      <th>gender</th>\n",
       "      <th>num_grp_like</th>\n",
       "    </tr>\n",
       "  </thead>\n",
       "  <tbody>\n",
       "    <tr>\n",
       "      <th>0</th>\n",
       "      <td>bts</td>\n",
       "      <td>Its gaining popularity</td>\n",
       "      <td>Its different from the usual music. I like som...</td>\n",
       "      <td>1.5</td>\n",
       "      <td>Its about the music, not the gender</td>\n",
       "      <td>5</td>\n",
       "      <td>Yes</td>\n",
       "      <td>2.5</td>\n",
       "      <td>Not sure</td>\n",
       "      <td>Subscribe to K-Pop news sites;Subscribe to You...</td>\n",
       "      <td>...</td>\n",
       "      <td>Reduced stress/anxiety/depression</td>\n",
       "      <td>75</td>\n",
       "      <td>I have a full - time job</td>\n",
       "      <td>Yes</td>\n",
       "      <td>Missed days of work and school to attend concerts</td>\n",
       "      <td>18</td>\n",
       "      <td>A country in the UK</td>\n",
       "      <td>Sales</td>\n",
       "      <td>Female</td>\n",
       "      <td>1</td>\n",
       "    </tr>\n",
       "    <tr>\n",
       "      <th>1</th>\n",
       "      <td>bts</td>\n",
       "      <td>Its gaining popularity</td>\n",
       "      <td>Its different from the usual music. I like som...</td>\n",
       "      <td>3.5</td>\n",
       "      <td>I listen to both</td>\n",
       "      <td>3</td>\n",
       "      <td>Yes</td>\n",
       "      <td>2.5</td>\n",
       "      <td>Yes</td>\n",
       "      <td>Subscribe to K-Pop news sites;Subscribe to You...</td>\n",
       "      <td>...</td>\n",
       "      <td>Made friends who are like-minded</td>\n",
       "      <td>50</td>\n",
       "      <td>Working part-time</td>\n",
       "      <td>I want to, but the K-Pop groups don't come to ...</td>\n",
       "      <td>Listened to K-Pop without studying or working ...</td>\n",
       "      <td>18</td>\n",
       "      <td>A country in the UK</td>\n",
       "      <td>Student</td>\n",
       "      <td>Female</td>\n",
       "      <td>1</td>\n",
       "    </tr>\n",
       "    <tr>\n",
       "      <th>2</th>\n",
       "      <td>bts,monsta x</td>\n",
       "      <td>Its gaining popularity</td>\n",
       "      <td>Its different from the usual music. I like som...</td>\n",
       "      <td>4</td>\n",
       "      <td>Its about the music, not the gender</td>\n",
       "      <td>3</td>\n",
       "      <td>Yes</td>\n",
       "      <td>2.5</td>\n",
       "      <td>No</td>\n",
       "      <td>Subscribe to K-Pop news sites;Join K-pop socia...</td>\n",
       "      <td>...</td>\n",
       "      <td>Made friends who are like-minded</td>\n",
       "      <td>75</td>\n",
       "      <td>Working part-time</td>\n",
       "      <td>Yes</td>\n",
       "      <td>Nothing as such</td>\n",
       "      <td>18</td>\n",
       "      <td>Other European countries</td>\n",
       "      <td>Student</td>\n",
       "      <td>Female</td>\n",
       "      <td>2</td>\n",
       "    </tr>\n",
       "    <tr>\n",
       "      <th>3</th>\n",
       "      <td>bts</td>\n",
       "      <td>Its gaining popularity</td>\n",
       "      <td>Its different from the usual music. I like som...</td>\n",
       "      <td>3.5</td>\n",
       "      <td>I listen to both</td>\n",
       "      <td>5</td>\n",
       "      <td>Yes</td>\n",
       "      <td>3.5</td>\n",
       "      <td>No</td>\n",
       "      <td>Subscribe to K-Pop news sites;Subscribe to You...</td>\n",
       "      <td>...</td>\n",
       "      <td>Reduced stress/anxiety/depression</td>\n",
       "      <td>75</td>\n",
       "      <td>Working part-time</td>\n",
       "      <td>Yes</td>\n",
       "      <td>Nothing as such</td>\n",
       "      <td>24</td>\n",
       "      <td>USA</td>\n",
       "      <td>Student</td>\n",
       "      <td>Female</td>\n",
       "      <td>1</td>\n",
       "    </tr>\n",
       "    <tr>\n",
       "      <th>4</th>\n",
       "      <td>bts</td>\n",
       "      <td>Yes</td>\n",
       "      <td>Its different from the usual music. I like som...</td>\n",
       "      <td>3.5</td>\n",
       "      <td>Yes</td>\n",
       "      <td>5</td>\n",
       "      <td>Yes</td>\n",
       "      <td>2.5</td>\n",
       "      <td>Not sure</td>\n",
       "      <td>Subscribe to Youtube channels</td>\n",
       "      <td>...</td>\n",
       "      <td>Reduced stress/anxiety/depression</td>\n",
       "      <td>150</td>\n",
       "      <td>Parents</td>\n",
       "      <td>I want to, but the K-Pop groups don't come to ...</td>\n",
       "      <td>Nothing as such</td>\n",
       "      <td>18</td>\n",
       "      <td>USA</td>\n",
       "      <td>Student</td>\n",
       "      <td>Female</td>\n",
       "      <td>1</td>\n",
       "    </tr>\n",
       "  </tbody>\n",
       "</table>\n",
       "<p>5 rows × 23 columns</p>\n",
       "</div>"
      ],
      "text/plain": [
       "        fav_grp                 popular  \\\n",
       "0           bts  Its gaining popularity   \n",
       "1           bts  Its gaining popularity   \n",
       "2  bts,monsta x  Its gaining popularity   \n",
       "3           bts  Its gaining popularity   \n",
       "4           bts                     Yes   \n",
       "\n",
       "                                              reason start_time  \\\n",
       "0  Its different from the usual music. I like som...        1.5   \n",
       "1  Its different from the usual music. I like som...        3.5   \n",
       "2  Its different from the usual music. I like som...          4   \n",
       "3  Its different from the usual music. I like som...        3.5   \n",
       "4  Its different from the usual music. I like som...        3.5   \n",
       "\n",
       "                           gender_pref daily_music_hr watch_MV  \\\n",
       "0  Its about the music, not the gender              5      Yes   \n",
       "1                     I listen to both              3      Yes   \n",
       "2  Its about the music, not the gender              3      Yes   \n",
       "3                     I listen to both              5      Yes   \n",
       "4                                  Yes              5      Yes   \n",
       "\n",
       "   daily_watch_hr  obsessed  \\\n",
       "0             2.5  Not sure   \n",
       "1             2.5       Yes   \n",
       "2             2.5        No   \n",
       "3             3.5        No   \n",
       "4             2.5  Not sure   \n",
       "\n",
       "                                         news_medium  ...  \\\n",
       "0  Subscribe to K-Pop news sites;Subscribe to You...  ...   \n",
       "1  Subscribe to K-Pop news sites;Subscribe to You...  ...   \n",
       "2  Subscribe to K-Pop news sites;Join K-pop socia...  ...   \n",
       "3  Subscribe to K-Pop news sites;Subscribe to You...  ...   \n",
       "4                      Subscribe to Youtube channels  ...   \n",
       "\n",
       "                         pos_effects yr_spend                 money_src  \\\n",
       "0  Reduced stress/anxiety/depression       75  I have a full - time job   \n",
       "1   Made friends who are like-minded       50         Working part-time   \n",
       "2   Made friends who are like-minded       75         Working part-time   \n",
       "3  Reduced stress/anxiety/depression       75         Working part-time   \n",
       "4  Reduced stress/anxiety/depression      150                   Parents   \n",
       "\n",
       "                                            concerts  \\\n",
       "0                                                Yes   \n",
       "1  I want to, but the K-Pop groups don't come to ...   \n",
       "2                                                Yes   \n",
       "3                                                Yes   \n",
       "4  I want to, but the K-Pop groups don't come to ...   \n",
       "\n",
       "                                         crazy_thing age  \\\n",
       "0  Missed days of work and school to attend concerts  18   \n",
       "1  Listened to K-Pop without studying or working ...  18   \n",
       "2                                    Nothing as such  18   \n",
       "3                                    Nothing as such  24   \n",
       "4                                    Nothing as such  18   \n",
       "\n",
       "                    country   career  gender num_grp_like  \n",
       "0       A country in the UK    Sales  Female            1  \n",
       "1       A country in the UK  Student  Female            1  \n",
       "2  Other European countries  Student  Female            2  \n",
       "3                       USA  Student  Female            1  \n",
       "4                       USA  Student  Female            1  \n",
       "\n",
       "[5 rows x 23 columns]"
      ]
     },
     "execution_count": 31,
     "metadata": {},
     "output_type": "execute_result"
    }
   ],
   "source": [
    "df['fav_grp'] = grp\n",
    "df.head()"
   ]
  },
  {
   "cell_type": "code",
   "execution_count": 32,
   "id": "406ebf23",
   "metadata": {},
   "outputs": [
    {
     "data": {
      "text/plain": [
       "bts_vs_others\n",
       "bts         163\n",
       "other(s)     77\n",
       "Name: count, dtype: int64"
      ]
     },
     "execution_count": 32,
     "metadata": {},
     "output_type": "execute_result"
    }
   ],
   "source": [
    "bts_vs_others = grp\n",
    "\n",
    "for row in range(0,len(df)):\n",
    "    if \"bts\" in bts_vs_others.iloc[row]:\n",
    "        bts_vs_others.iloc[row] = \"bts\"\n",
    "    else:\n",
    "        bts_vs_others.iloc[row] = \"other(s)\"\n",
    "df['bts_vs_others'] = bts_vs_others\n",
    "df['bts_vs_others'].value_counts()"
   ]
  },
  {
   "cell_type": "markdown",
   "id": "d5f62b05",
   "metadata": {},
   "source": [
    "### Clean the \"news_medium\" column"
   ]
  },
  {
   "cell_type": "code",
   "execution_count": 33,
   "id": "71f9ecef",
   "metadata": {},
   "outputs": [
    {
     "data": {
      "text/plain": [
       "news_medium\n",
       "Subscribe to Youtube channels                                                                                    54\n",
       "Join K-pop social media groups                                                                                   38\n",
       "Subscribe to K-Pop news sites;Subscribe to Youtube channels;Join K-pop social media groups                       37\n",
       "Subscribe to Youtube channels;Join K-pop social media groups                                                     31\n",
       "Subscribe to K-Pop news sites                                                                                    17\n",
       "Subscribe to K-Pop news sites;Subscribe to Youtube channels                                                      15\n",
       "Subscribe to K-Pop news sites;Join K-pop social media groups                                                      6\n",
       "Twitter                                                                                                           5\n",
       "follow them on social media                                                                                       1\n",
       "Twitter, specifically Soompi                                                                                      1\n",
       "Subscribe to Youtube channels;Join K-pop social media groups;Stan Twitter                                         1\n",
       "follow on social media (twitter, instagram)                                                                       1\n",
       "Subscribe to Youtube channels;Follow groups and members on twitter and instagram                                  1\n",
       "Subscribe to K-Pop news sites;Join K-pop social media groups;Soompi on Twitter                                    1\n",
       "Subscribe to K-Pop news sites;Subscribe to Youtube channels;I have a Gc on WhatsApp that inform me on stuff       1\n",
       "Subscribe to Youtube channels;Join K-pop social media groups;Follow them on social media                          1\n",
       "instagram. twitter                                                                                                1\n",
       "Subscribe to Youtube channels;Twitter                                                                             1\n",
       "Check Twitter                                                                                                     1\n",
       "Twitter is very informative                                                                                       1\n",
       "Keep up with whatever is hot on twitter                                                                           1\n",
       "News tend to pop up on my feed. I do not like the overwhelming amount of drama some of these accounts post.       1\n",
       "The Google app gives me kpop news at the bottom of the search engine                                              1\n",
       "nothing sometimes it just randomly appears on my feed                                                             1\n",
       "Subscribe to Youtube channels;blog on tumblr                                                                      1\n",
       "I have allkpop tweets notifcations sent to my phone thats it realy                                                1\n",
       "I have an account on Twitter. It's enough.                                                                        1\n",
       "Search on twitter                                                                                                 1\n",
       "I just hear about it from people or sometimes twitter/instagram fan accounts talk about it.                       1\n",
       "Subscribe to Youtube channels;Following fanbase on social media                                                   1\n",
       "Subscribe to Youtube channels;Follow fellow kpop listeners on twitter                                             1\n",
       "Subscribe to K-Pop news sites;Twitter                                                                             1\n",
       "Subscribe to Youtube channels;Join K-pop social media groups;Keep updated via twitter                             1\n",
       "Subscribe to Youtube channels;Go on twitter                                                                       1\n",
       "Subscribe to Youtube channels;Join K-pop social media groups;Twitter and Instagram                                1\n",
       "Amino, Youtube,Twitter                                                                                            1\n",
       "Have a group chat with friend who like kpop and we update each other if we see something online                   1\n",
       "Reddit                                                                                                            1\n",
       "See whatâ€™s trending on Twitter or Youtube                                                                       1\n",
       "Seeing Tweets or Tumblr Posts                                                                                     1\n",
       "Subscribe to Youtube channels;Join K-pop social media groups;Definitely being on twitter keeps me in the loop     1\n",
       "Twitter mutuals usually rt things onto my tl                                                                      1\n",
       "Subscribe to K-Pop news sites;Subscribe to Youtube channels;Follow their official social media accounts           1\n",
       "Subscribe to Youtube channels;Join K-pop social media groups;Twitter and Army Amino                               1\n",
       "none                                                                                                              1\n",
       "Name: count, dtype: int64"
      ]
     },
     "execution_count": 33,
     "metadata": {},
     "output_type": "execute_result"
    }
   ],
   "source": [
    "df['news_medium'].value_counts()"
   ]
  },
  {
   "cell_type": "code",
   "execution_count": 34,
   "id": "3ab8d092",
   "metadata": {},
   "outputs": [
    {
     "data": {
      "text/plain": [
       "news_medium\n",
       "youtube                              153\n",
       "social media (twitter, instagram)     47\n",
       "others (reddit, tumbler, or none)     40\n",
       "Name: count, dtype: int64"
      ]
     },
     "execution_count": 34,
     "metadata": {},
     "output_type": "execute_result"
    }
   ],
   "source": [
    "news = df['news_medium']\n",
    "news = news.apply(lambda x: x.lower())\n",
    "for row in range(0,len(df)):\n",
    "    if \"youtube\" in news.iloc[row]:\n",
    "        news.iloc[row] = \"youtube\"\n",
    "    elif \"twitter\" and \"instagram\" and \"social media\" in news.iloc[row]:\n",
    "        news.iloc[row] = \"social media (twitter, instagram)\"\n",
    "    else:\n",
    "        news.iloc[row] = \"others (reddit, tumbler, or none)\"\n",
    "\n",
    "df['news_medium'] = news\n",
    "df['news_medium'].value_counts()"
   ]
  },
  {
   "cell_type": "markdown",
   "id": "e7c9e869",
   "metadata": {},
   "source": [
    "### Clean the \"pursuit\" column"
   ]
  },
  {
   "cell_type": "code",
   "execution_count": 35,
   "id": "e59e3534",
   "metadata": {},
   "outputs": [
    {
     "data": {
      "text/plain": [
       "pursuit\n",
       "Learning about Korean/Asian culture                                                                                                                                                                                                                  36\n",
       "Learning about Korean/Asian culture;Learn about Korean fashion/makeup                                                                                                                                                                                23\n",
       "Learning about Korean/Asian culture;Pursue dancing;Learn about Korean fashion/makeup;Visit Korea                                                                                                                                                     19\n",
       "Learning music - either an instrument or singing;Learning about Korean/Asian culture;Pursue dancing;Learn about Korean fashion/makeup;Visit Korea                                                                                                    16\n",
       "Learning about Korean/Asian culture;Visit Korea                                                                                                                                                                                                      16\n",
       "Learning about Korean/Asian culture;Learn about Korean fashion/makeup;Visit Korea                                                                                                                                                                    15\n",
       "Learning about Korean/Asian culture;Pursue dancing                                                                                                                                                                                                   11\n",
       "Learning about Korean/Asian culture;Pursue dancing;Visit Korea                                                                                                                                                                                       10\n",
       "Learning about Korean/Asian culture;Pursue dancing;Learn about Korean fashion/makeup                                                                                                                                                                  9\n",
       "Learning music - either an instrument or singing;Learning about Korean/Asian culture;Pursue dancing;Visit Korea                                                                                                                                       7\n",
       "Learning music - either an instrument or singing;Learning about Korean/Asian culture;Pursue dancing                                                                                                                                                   7\n",
       "Learning music - either an instrument or singing;Learning about Korean/Asian culture                                                                                                                                                                  7\n",
       "Pursue dancing                                                                                                                                                                                                                                        6\n",
       "Learn about Korean fashion/makeup                                                                                                                                                                                                                     6\n",
       "Learning music - either an instrument or singing                                                                                                                                                                                                      5\n",
       "Visit Korea                                                                                                                                                                                                                                           5\n",
       "Learning music - either an instrument or singing;Learning about Korean/Asian culture;Pursue dancing;Learn about Korean fashion/makeup                                                                                                                 4\n",
       "Learning music - either an instrument or singing;Learning about Korean/Asian culture;Learn about Korean fashion/makeup                                                                                                                                4\n",
       "No                                                                                                                                                                                                                                                    3\n",
       "Learning music - either an instrument or singing;Learning about Korean/Asian culture;Learn about Korean fashion/makeup;Visit Korea                                                                                                                    3\n",
       "Learning music - either an instrument or singing;Learning about Korean/Asian culture;Visit Korea                                                                                                                                                      3\n",
       "Learn about Korean fashion/makeup;Visit Korea                                                                                                                                                                                                         3\n",
       "Pursue dancing;Learn about Korean fashion/makeup                                                                                                                                                                                                      2\n",
       "continuing to dance more                                                                                                                                                                                                                              1\n",
       "Learning music - either an instrument or singing;Pursue dancing;Visit Korea                                                                                                                                                                           1\n",
       "Learning music - either an instrument or singing;Learning about Korean/Asian culture;Learn about Korean fashion/makeup;To open up to other types of artists that are not just Kpop groups like soloist and made be want to learn to speak Korean.     1\n",
       "Visit Korea;Learn the language                                                                                                                                                                                                                        1\n",
       "Learning about Korean/Asian culture;Learn about Korean fashion/makeup;Visit Korea;Learn Korean                                                                                                                                                        1\n",
       "None, but I'd like to travel someday to Korea                                                                                                                                                                                                         1\n",
       "Learning music - either an instrument or singing;Learning about Korean/Asian culture;A new job choice                                                                                                                                                 1\n",
       "Learning music - either an instrument or singing;Learning about korean culture and food                                                                                                                                                               1\n",
       "All of the above and I would like to visit Korea                                                                                                                                                                                                      1\n",
       "Pursue dancing;Visit Korea                                                                                                                                                                                                                            1\n",
       "Things like learning instruments and culture are things I do, but it isn't because of kpop (like I would've still learned about it due to school and such)                                                                                            1\n",
       "Learning about Korean/Asian culture;Visit Korea;It's helped me improve my art and animation skills.                                                                                                                                                   1\n",
       "Learning music - either an instrument or singing;Learning about Korean/Asian culture;Pursue dancing;Learn about Korean fashion/makeup;Visit Korea;Learn drawing and following campaigns to help others                                                1\n",
       "Learning about Korean/Asian culture;Visit Korea;Learning the Korean Language                                                                                                                                                                          1\n",
       "Learning about Korean/Asian culture;Learn about Korean fashion/makeup;Learning more about producing and music making, more about dance and singing, but more technically speaking. Also video editing!                                                1\n",
       "Learning music - either an instrument or singing;Learning about Korean/Asian culture;Visit Korea;Learning the language                                                                                                                                1\n",
       "Learning music - either an instrument or singing;Learning about Korean/Asian culture;Collecting kpop albums and become broke lol                                                                                                                      1\n",
       "Fashion and dancing                                                                                                                                                                                                                                   1\n",
       "Learning about Korean/Asian culture;Learn about Korean fashion/makeup;It taught me to be more open minded                                                                                                                                             1\n",
       "no                                                                                                                                                                                                                                                    1\n",
       "Name: count, dtype: int64"
      ]
     },
     "execution_count": 35,
     "metadata": {},
     "output_type": "execute_result"
    }
   ],
   "source": [
    "df['pursuit'].value_counts()"
   ]
  },
  {
   "cell_type": "code",
   "execution_count": 36,
   "id": "9cf07a3f",
   "metadata": {},
   "outputs": [],
   "source": [
    "pursue = df['pursuit']\n",
    "pursue_test = pursue"
   ]
  },
  {
   "cell_type": "code",
   "execution_count": 37,
   "id": "9bbae63d",
   "metadata": {},
   "outputs": [],
   "source": [
    "# Relabel pursuit\n",
    "pursue_test = pursue_test.apply(lambda x: x.lower())\n",
    "\n",
    "for row in range(0, len(df)):\n",
    "    if \"learning about korean/asian culture\" in pursue_test.iloc[row] and \";\" not in pursue_test.iloc[row]:\n",
    "        pursue_test.iloc[row] = \"learn the culture\"\n",
    "    elif \"learn about korean fashion/makeup\" in pursue_test.iloc[row] and \";\" not in pursue_test.iloc[row]:\n",
    "        pursue_test.iloc[row] = \"learn korean fashion/makeup\"\n",
    "    elif \"learning music - either an instrument or singing\" in pursue_test.iloc[row] and \";\" not in pursue_test.iloc[row]:\n",
    "        pursue_test.iloc[row] = \"learn music\"\n",
    "    elif \"pursue dancing\" in pursue_test.iloc[row] and \";\" not in pursue_test.iloc[row]:\n",
    "        pursue_test.iloc[row] = \"pursue dancing\"\n",
    "    elif \"no\" in pursue_test.iloc[row] and \";\" not in pursue_test.iloc[row]:\n",
    "        pursue_test.iloc[row] = \"none\"\n",
    "    else:\n",
    "        pursue_test.iloc[row] = \"others (combination of the four and visit korea)\"\n",
    "        "
   ]
  },
  {
   "cell_type": "code",
   "execution_count": 38,
   "id": "1785b80b",
   "metadata": {},
   "outputs": [
    {
     "data": {
      "text/plain": [
       "pursuit\n",
       "others (combination of the four and visit korea)    182\n",
       "learn the culture                                    36\n",
       "learn korean fashion/makeup                           6\n",
       "pursue dancing                                        6\n",
       "none                                                  5\n",
       "learn music                                           5\n",
       "Name: count, dtype: int64"
      ]
     },
     "execution_count": 38,
     "metadata": {},
     "output_type": "execute_result"
    }
   ],
   "source": [
    "df[\"pursuit\"] = pursue_test\n",
    "df[\"pursuit\"].value_counts()"
   ]
  },
  {
   "cell_type": "markdown",
   "id": "4a3a68df",
   "metadata": {},
   "source": [
    "### Clean the \"taken_time\" column"
   ]
  },
  {
   "cell_type": "code",
   "execution_count": 39,
   "id": "32a985c2",
   "metadata": {},
   "outputs": [
    {
     "data": {
      "text/plain": [
       "taken_time\n",
       "No                                                                                                                                                                                                                                                     115\n",
       "Yes                                                                                                                                                                                                                                                     69\n",
       "Not sure                                                                                                                                                                                                                                                34\n",
       "Most of the time                                                                                                                                                                                                                                         1\n",
       "It depends on your definition of taken away. I am constantly listening to music and spend most of my day listening to KPop but I am still able to go out with family and get school work done. I would say KPop is a slightly time consuming hobby.      1\n",
       "Yes, it had but Kpop isnâ€™t only just consuming my time. Itâ€™s also drawing, paint, and deal with school.                                                                                                                                              1\n",
       "Yes but I still manage time well                                                                                                                                                                                                                         1\n",
       "Yes, but i csn focus on other thins if needed                                                                                                                                                                                                            1\n",
       "Iâ€™ve slowly stopped watching kpop as much as I used to                                                                                                                                                                                                 1\n",
       "From an outside view, you would probably think yes. However, I personally believe that leisure is very important for one's wellbeing. Therefore, I spend a lot of time keeping updated with kpop (and watching anime and stuff).                         1\n",
       "I wouldnâ€™t say that its taken over my life, it more of an intrest like e.g. a intrest in art                                                                                                                                                           1\n",
       "When I first got into it                                                                                                                                                                                                                                 1\n",
       "If you mean spending the night watching BTS crack or try not to laugh, than yes                                                                                                                                                                          1\n",
       "It doesnâ€™t waste my time, instead itâ€™s just a time spender until I have to do something.                                                                                                                                                             1\n",
       "I would say I get everything I need to do done and spend the rest of the time doing/watching kpop related content                                                                                                                                        1\n",
       "K-Pop doesn't take away my time. I have problems with procrastination, but not because of K-Pop.                                                                                                                                                         1\n",
       "Sometimes                                                                                                                                                                                                                                                1\n",
       "Not really becuase i make sure kpop doesnt get jn the way of my personal time with my friends.                                                                                                                                                           1\n",
       "It used to but now Iâ€™ve learnt to control it                                                                                                                                                                                                           1\n",
       "I spend a lot of time with kpop, but Iâ€™ve learned how to budget and appreciate it when i can !                                                                                                                                                         1\n",
       "The music itself doesn't make much of a difference but I do go to more concerts now which takes up my time (and money).                                                                                                                                  1\n",
       "It used to, not as much now that iâ€™m back in school                                                                                                                                                                                                    1\n",
       "It depends                                                                                                                                                                                                                                               1\n",
       "Not really                                                                                                                                                                                                                                               1\n",
       "As much as everything else in my life does                                                                                                                                                                                                               1\n",
       "Name: count, dtype: int64"
      ]
     },
     "execution_count": 39,
     "metadata": {},
     "output_type": "execute_result"
    }
   ],
   "source": [
    "df[\"taken_time\"].value_counts()"
   ]
  },
  {
   "cell_type": "code",
   "execution_count": 40,
   "id": "42dd142d",
   "metadata": {},
   "outputs": [],
   "source": [
    "time_cons = df['taken_time']\n",
    "time_cons_test = time_cons"
   ]
  },
  {
   "cell_type": "code",
   "execution_count": 41,
   "id": "05c61487",
   "metadata": {},
   "outputs": [
    {
     "data": {
      "text/plain": [
       "taken_time\n",
       "no                              155\n",
       "yes                              74\n",
       "others (sometimes, not sure)     11\n",
       "Name: count, dtype: int64"
      ]
     },
     "execution_count": 41,
     "metadata": {},
     "output_type": "execute_result"
    }
   ],
   "source": [
    "# Relabel Concerts\n",
    "time_cons_test = time_cons_test.apply(lambda x: x.lower())\n",
    "\n",
    "for row in range(0,len(df)):\n",
    "    if \"yes\" in time_cons_test.iloc[row]:\n",
    "        time_cons_test.iloc[row] = \"yes\"\n",
    "    elif \"no\" in time_cons_test.iloc[row]:\n",
    "        time_cons_test.iloc[row] = \"no\"\n",
    "    else:\n",
    "        time_cons_test.iloc[row] = \"others (sometimes, not sure)\"\n",
    "\n",
    "df['taken_time'] = time_cons_test\n",
    "df['taken_time'].value_counts()"
   ]
  },
  {
   "cell_type": "markdown",
   "id": "84a977ad",
   "metadata": {},
   "source": [
    "### Clean the \"affect_life\" column"
   ]
  },
  {
   "cell_type": "code",
   "execution_count": 42,
   "id": "3a2bcdc7",
   "metadata": {},
   "outputs": [
    {
     "data": {
      "text/plain": [
       "affect_life\n",
       "Led to you being cajoled (made fun of) by classmates and family                                                                                                                   93\n",
       "Reduced the amount of sleep you get                                                                                                                                               71\n",
       "Reduced your time to socialise with your friends/partners/family                                                                                                                  10\n",
       "Reduced the number of friends you have                                                                                                                                             7\n",
       "none                                                                                                                                                                               5\n",
       "None of the above                                                                                                                                                                  4\n",
       "No                                                                                                                                                                                 4\n",
       "Not really                                                                                                                                                                         3\n",
       "none of the above                                                                                                                                                                  3\n",
       "Nope                                                                                                                                                                               2\n",
       "None                                                                                                                                                                               1\n",
       "reduced amount of sleep, as well, got made fun of                                                                                                                                  1\n",
       "Not consumed, some people dont have lives out kpop and it shows, i treat this genre of music like most do with entertainment and just absorb it in my free time here and there     1\n",
       "I really dont see kpop affecting me, if anything, i got happier with the friends i met through it                                                                                  1\n",
       "Increased number of friends                                                                                                                                                        1\n",
       "No, because it hasnâ€™t affected my life.Cause I still do thing that I love even if I wasnâ€™t into Kpop.                                                                          1\n",
       "it hasnâ€™t affected me negatively                                                                                                                                                 1\n",
       "No? Itâ€™s just music                                                                                                                                                              1\n",
       "Reduced the time spend to watch other tvshows ,movies ...                                                                                                                          1\n",
       "Itâ€™s the only music of genre I listen to and I Stan lots of group I have to on top on what the lastest thing is but I still continue with my life                                1\n",
       "K-pop has not affected my personal life.                                                                                                                                           1\n",
       "no it doesn't                                                                                                                                                                      1\n",
       "Nothings changed with my lifestyle                                                                                                                                                 1\n",
       "Made more friends because we like kpop                                                                                                                                             1\n",
       "I'd rather say that because of my connection with K-Pop, it has opened doorsfor me to make new friends (even to that of bosses).                                                   1\n",
       "All of the above                                                                                                                                                                   1\n",
       "None of the above, I talk about it with a couple friends who also like kpop otherwise itâ€™s only in my own time. I donâ€™t talk about it around others and stuff                  1\n",
       "no                                                                                                                                                                                 1\n",
       "Helped me to makw new friends and try new things                                                                                                                                   1\n",
       "Kpop has led me through difficult times honestly with just having music as a way to relive stress and being able to relate and understand the meaning of songs.                    1\n",
       "If itâ€™s not balanced                                                                                                                                                             1\n",
       "No affect.                                                                                                                                                                         1\n",
       "Made my bond with my friends stronger ! My family and some friends still make fun of me, but for the most part they accept it.                                                     1\n",
       "No I'm fine. But I don't talk about it either.                                                                                                                                     1\n",
       "all of them                                                                                                                                                                        1\n",
       "nope not at all                                                                                                                                                                    1\n",
       "No it hasn't.                                                                                                                                                                      1\n",
       "Changed my perspective on what occupation Iâ€™d like to persue in the future which is actually working as a translator ;)                                                          1\n",
       "Small amount of criticism.                                                                                                                                                         1\n",
       "Consuming kpop reduce my stress and make my more positive and open-minded person. Love myself, love yourself, peace.                                                               1\n",
       "Made me closer to friends                                                                                                                                                          1\n",
       "BTS has taught me to love myself since i was ostracized when i was in elementary                                                                                                   1\n",
       "Not really. Other than my dad poking fun everynow and then.                                                                                                                        1\n",
       "Has not affected my life other than introducing me to some of my closest friends                                                                                                   1\n",
       "Nothing really                                                                                                                                                                     1\n",
       "It has not negatively affected my quality of life                                                                                                                                  1\n",
       "Hasnâ€™t affected me negatively                                                                                                                                                    1\n",
       "Nothing as such                                                                                                                                                                    1\n",
       "Name: count, dtype: int64"
      ]
     },
     "execution_count": 42,
     "metadata": {},
     "output_type": "execute_result"
    }
   ],
   "source": [
    "df['affect_life'].value_counts()"
   ]
  },
  {
   "cell_type": "code",
   "execution_count": 43,
   "id": "79df7297",
   "metadata": {},
   "outputs": [],
   "source": [
    "life_change = df['affect_life']\n",
    "life_change_test = life_change"
   ]
  },
  {
   "cell_type": "code",
   "execution_count": 44,
   "id": "25b65b5b",
   "metadata": {},
   "outputs": [
    {
     "data": {
      "text/plain": [
       "affect_life\n",
       "made fun of                                               93\n",
       "reduce amount of sleep                                    72\n",
       "none                                                      38\n",
       "reduced time of socialized with friends/family            26\n",
       "others (combination of the negatives, small criticism)    11\n",
       "Name: count, dtype: int64"
      ]
     },
     "execution_count": 44,
     "metadata": {},
     "output_type": "execute_result"
    }
   ],
   "source": [
    "# Relabel affect_life\n",
    "life_change_test = life_change_test.apply(lambda x: x.lower())\n",
    "\n",
    "for row in range(0, len(df)):\n",
    "    if \"cajoled\" in life_change_test.iloc[row]:\n",
    "        life_change_test.iloc[row] = \"made fun of\"\n",
    "    elif \"amount of sleep\" in life_change_test.iloc[row]:\n",
    "        life_change_test.iloc[row] = \"reduce amount of sleep\"\n",
    "    elif \"friends\" and \"friends\" in life_change_test.iloc[row]:\n",
    "        life_change_test.iloc[row] = \"reduced time of socialized with friends/family\"\n",
    "    elif \"no\" in life_change_test.iloc[row]:\n",
    "        life_change_test.iloc[row] = \"none\"\n",
    "    else:\n",
    "        life_change_test.iloc[row] = \"others (combination of the negatives, small criticism)\"\n",
    "\n",
    "df[\"affect_life\"] = life_change_test\n",
    "df[\"affect_life\"].value_counts()\n"
   ]
  },
  {
   "cell_type": "markdown",
   "id": "d8bd0bc9",
   "metadata": {},
   "source": [
    "### Clean the \"pos_effects\" column"
   ]
  },
  {
   "cell_type": "code",
   "execution_count": 45,
   "id": "cc80171b",
   "metadata": {},
   "outputs": [
    {
     "data": {
      "text/plain": [
       "pos_effects\n",
       "Reduced stress/anxiety/depression                                                                                                                                                                                                                                                                                     131\n",
       "Made friends who are like-minded                                                                                                                                                                                                                                                                                       77\n",
       "Both                                                                                                                                                                                                                                                                                                                    7\n",
       "All of the above                                                                                                                                                                                                                                                                                                        3\n",
       "No                                                                                                                                                                                                                                                                                                                      1\n",
       "Both answers above                                                                                                                                                                                                                                                                                                      1\n",
       "Idk if what I'm about to say makes much sense. But, for example, BTS helped me understand that I have to love myself. CLC teaches me, through their music, that it's ok to be different, that the standards that our society create should never be our measuring cup. (I'm sorry if my english is not so correct)      1\n",
       "Being inspired by the lyrics/ messages                                                                                                                                                                                                                                                                                  1\n",
       "both. Iâ€™ve met my best friend thanks to kpop and it makes me happy                                                                                                                                                                                                                                                    1\n",
       "KPop groups have helped me overcome some of the hardest times of my life. It is my strength when I am weak. I feel it is there to comfort me when I feel sad.                                                                                                                                                           1\n",
       "Kpop made me and overall better person to love myself and donâ€™t give a crap about haters (sorry about my French)                                                                                                                                                                                                      1\n",
       "Being exposed to different styles of music                                                                                                                                                                                                                                                                              1\n",
       "Not really, i mean i made a friend that likes the same group as me so thats nice                                                                                                                                                                                                                                        1\n",
       "I don't know                                                                                                                                                                                                                                                                                                            1\n",
       "Both of the above                                                                                                                                                                                                                                                                                                       1\n",
       "Everything about it is positive for me, except people being disrespectful to me for my liking, or the threatening of my wallet.                                                                                                                                                                                         1\n",
       "It makes me super excited to start a new animation project whenever I have an idea.                                                                                                                                                                                                                                     1\n",
       "Not only has it relieves stress but Iâ€™ve made a lot more friends and have become more social. I also travel a lot to go to shows so it creates great experiences. It has positively effected my life to learn more about other cultures and people.                                                                   1\n",
       "Expanded my idea of what good music is overall                                                                                                                                                                                                                                                                          1\n",
       "Reduced stress, made new friends and give me more experiences (like concert and meeting person from internet at real live).                                                                                                                                                                                             1\n",
       "Made me closer with my partner                                                                                                                                                                                                                                                                                          1\n",
       "Learning about something new                                                                                                                                                                                                                                                                                            1\n",
       "Its where I go to unwind and it helps with my anxiety, stress, and depression. Iâ€™ve also made a ton of internet friends and in real life friends from it too !                                                                                                                                                        1\n",
       "made friends on internet and when i went to high school (senior year)                                                                                                                                                                                                                                                   1\n",
       "all the above                                                                                                                                                                                                                                                                                                           1\n",
       "Nothing specific, I just like the music                                                                                                                                                                                                                                                                                 1\n",
       "Name: count, dtype: int64"
      ]
     },
     "execution_count": 45,
     "metadata": {},
     "output_type": "execute_result"
    }
   ],
   "source": [
    "df['pos_effects'].value_counts()"
   ]
  },
  {
   "cell_type": "code",
   "execution_count": 46,
   "id": "6ad29390",
   "metadata": {},
   "outputs": [
    {
     "data": {
      "text/plain": [
       "pos_effects\n",
       "reduced stress/anxiety/depression                      132\n",
       "made friends                                            77\n",
       "others (don't know, no effect, learning new things)     21\n",
       "both reduced stress and made friends                    10\n",
       "Name: count, dtype: int64"
      ]
     },
     "execution_count": 46,
     "metadata": {},
     "output_type": "execute_result"
    }
   ],
   "source": [
    "# Relabel postive effects\n",
    "pos_ef = df['pos_effects']\n",
    "pos_ef_test = pos_ef\n",
    "\n",
    "pos_ef_test = pos_ef_test.apply(lambda x: x.lower())\n",
    "\n",
    "for row in range(0, len(df)):\n",
    "    if \"reduced stress\" in pos_ef_test.iloc[row]:\n",
    "        pos_ef_test.iloc[row] = \"reduced stress/anxiety/depression\"\n",
    "    elif \"like-minded\" in pos_ef_test.iloc[row]:\n",
    "        pos_ef_test.iloc[row] = \"made friends\"\n",
    "    elif \"both\" in pos_ef_test.iloc[row]:\n",
    "        pos_ef_test.iloc[row] = \"both reduced stress and made friends\"\n",
    "    else:\n",
    "        pos_ef_test.iloc[row] = \"others (don't know, no effect, learning new things)\"\n",
    "\n",
    "df['pos_effects'] = pos_ef_test\n",
    "df['pos_effects'].value_counts()"
   ]
  },
  {
   "cell_type": "code",
   "execution_count": 47,
   "id": "8e42dbaf",
   "metadata": {},
   "outputs": [
    {
     "data": {
      "text/plain": [
       "240"
      ]
     },
     "execution_count": 47,
     "metadata": {},
     "output_type": "execute_result"
    }
   ],
   "source": [
    "df['pos_effects'].value_counts().sum()"
   ]
  },
  {
   "cell_type": "markdown",
   "id": "6bb5532f",
   "metadata": {},
   "source": [
    "### Interesting Pattern: \n",
    "#### Even though many people were being made fun of by others, there are still quite a lot of positive effects brought by K-Pop."
   ]
  },
  {
   "cell_type": "code",
   "execution_count": 48,
   "id": "9aaf281e",
   "metadata": {},
   "outputs": [
    {
     "data": {
      "image/png": "[encoded data removed]",
      "text/plain": [
       "<Figure size 800x600 with 1 Axes>"
      ]
     },
     "metadata": {},
     "output_type": "display_data"
    }
   ],
   "source": [
    "import matplotlib.pyplot as plt\n",
    "\n",
    "negative_effects = {\n",
    "    \"none\": 38,\n",
    "    \"others\": 202   # Sum of all other negative effects\n",
    "}\n",
    "\n",
    "positive_effects = {\n",
    "    \"none\": 21,      # Assuming there are no positive effects in \"none\" category\n",
    "    \"others\": 219   # Sum of all other positive effects\n",
    "}\n",
    "\n",
    "# Prepare data for plotting\n",
    "categories = list(negative_effects.keys())\n",
    "negative_counts = list(negative_effects.values())\n",
    "positive_counts = list(positive_effects.values())\n",
    "\n",
    "# Plotting\n",
    "fig, ax = plt.subplots(figsize=(8, 6))\n",
    "\n",
    "# Width of each bar\n",
    "bar_width = 0.35\n",
    "\n",
    "# Set position of bar on X axis\n",
    "r1 = range(len(categories))\n",
    "r2 = [x + bar_width for x in r1]\n",
    "\n",
    "# Plot negative effects\n",
    "ax.bar(r1, negative_counts, color='grey', width=bar_width, edgecolor='grey', label='Negative Effects')\n",
    "\n",
    "# Plot positive effects\n",
    "ax.bar(r2, positive_counts, color='brown', width=bar_width, edgecolor='grey', label='Positive Effects')\n",
    "\n",
    "# Adding labels\n",
    "ax.set_xlabel('Effects')\n",
    "ax.set_ylabel('Count')\n",
    "ax.set_title('Comparison of Negative and Positive Effects of K-Pop')\n",
    "ax.set_xticks([r + bar_width/2 for r in range(len(categories))])\n",
    "ax.set_xticklabels(categories)\n",
    "ax.legend()\n",
    "\n",
    "plt.tight_layout()\n",
    "\n",
    "# Show plot\n",
    "plt.show()\n"
   ]
  },
  {
   "cell_type": "markdown",
   "id": "76177604",
   "metadata": {},
   "source": [
    "### Clean the \"money_src\" column"
   ]
  },
  {
   "cell_type": "code",
   "execution_count": 49,
   "id": "b1b46a81",
   "metadata": {},
   "outputs": [
    {
     "data": {
      "text/plain": [
       "money_src\n",
       "Parents                                                                                                                                              99\n",
       "Working part-time                                                                                                                                    76\n",
       "I have a full - time job                                                                                                                             22\n",
       "Borrow from friends/partner                                                                                                                           3\n",
       "No one                                                                                                                                                2\n",
       "I donâ€™t                                                                                                                                             2\n",
       "Savings                                                                                                                                               2\n",
       "None of the above                                                                                                                                     1\n",
       "Helping parents and grandparents, but also holiday money (chrismas or birthdays)                                                                      1\n",
       "I donâ€™t!                                                                                                                                            1\n",
       ".                                                                                                                                                     1\n",
       "Has I said I don't spend money on merchandise, but if I did I would have use my own money.                                                            1\n",
       "I just have it ðŸ—¿                                                                                                                                   1\n",
       "Money I got as presents and saved over the years                                                                                                      1\n",
       "christmas/birthday                                                                                                                                    1\n",
       "Have never spent money on kpop merchandise                                                                                                            1\n",
       "I babysit but thatâ€™s rare but thatâ€™s what I use to buy things                                                                                     1\n",
       "Well, a little bit of parents paying me 10 dollars to go to work with my dad and also help out around my school.                                      1\n",
       "Again, I've only ever gotten merch as gifts.                                                                                                          1\n",
       "Financial aid                                                                                                                                         1\n",
       "Borrow from parents, and my part time job                                                                                                             1\n",
       "i donâ€™t spend money on kpop merchandise.                                                                                                            1\n",
       "My account                                                                                                                                            1\n",
       "I get money from bets, lending money, and doing people's work. I also get money for special occasions like birthdays, Christmas and New Year etc.     1\n",
       "I dont spend money on merch                                                                                                                           1\n",
       "I'm broke so i cant buy anything.                                                                                                                     1\n",
       "Usually I have my own money                                                                                                                           1\n",
       "I get the money for special days, like my birthday, christmas, etc. or when i make an accomplishment, like keeping my grades up.                      1\n",
       "My parents and me working both                                                                                                                        1\n",
       "My parents and friends or, whever I get paid, I buy the merch.                                                                                        1\n",
       "I save my own money                                                                                                                                   1\n",
       "I don't have money to spare on merchandise. Nu                                                                                                        1\n",
       "Schoolarship                                                                                                                                          1\n",
       "Money I saved up                                                                                                                                      1\n",
       "Pocket money and additional work.                                                                                                                     1\n",
       "Money that I've saved over the past 6 years from presents and other things.                                                                           1\n",
       "Chores                                                                                                                                                1\n",
       "none                                                                                                                                                  1\n",
       "Money Iâ€™ve saved up                                                                                                                                 1\n",
       "Chinese new year money, birthday money, gifts etc..                                                                                                   1\n",
       "Gift Cards                                                                                                                                            1\n",
       "Name: count, dtype: int64"
      ]
     },
     "execution_count": 49,
     "metadata": {},
     "output_type": "execute_result"
    }
   ],
   "source": [
    "df['money_src'].value_counts()"
   ]
  },
  {
   "cell_type": "code",
   "execution_count": 50,
   "id": "83762e5c",
   "metadata": {},
   "outputs": [
    {
     "data": {
      "text/plain": [
       "money_src\n",
       "others (gift, scholarship, etc)    111\n",
       "from parents                       104\n",
       "full-time job                       22\n",
       "borrowed                             3\n",
       "Name: count, dtype: int64"
      ]
     },
     "execution_count": 50,
     "metadata": {},
     "output_type": "execute_result"
    }
   ],
   "source": [
    "# Relabel\n",
    "money = df['money_src']\n",
    "money_test = money\n",
    "\n",
    "money_test = money_test.apply(lambda x: x.lower())\n",
    "for row in range(0,len(df)):\n",
    "    if \"parents\" in money_test.iloc[row]:\n",
    "        money_test.iloc[row] = \"from parents\"\n",
    "    elif \"part_time\" in money_test.iloc[row]:\n",
    "        money_test.iloc[row] = \"part_time job\"\n",
    "    elif \"a full\" in money_test.iloc[row]:\n",
    "        money_test.iloc[row] = \"full-time job\"\n",
    "    elif \"borrow\" in money_test.iloc[row]:\n",
    "        money_test.iloc[row] = \"borrowed\"\n",
    "    else:\n",
    "        money_test.iloc[row] = \"others (gift, scholarship, etc)\"\n",
    "\n",
    "df[\"money_src\"] = money_test\n",
    "df['money_src'].value_counts()"
   ]
  },
  {
   "cell_type": "markdown",
   "id": "bce05357",
   "metadata": {},
   "source": [
    "### Clean the \"crazy\" column"
   ]
  },
  {
   "cell_type": "code",
   "execution_count": 51,
   "id": "5418eef8",
   "metadata": {},
   "outputs": [
    {
     "data": {
      "text/plain": [
       "<bound method IndexOpsMixin.value_counts of 0      Missed days of work and school to attend concerts\n",
       "1      Listened to K-Pop without studying or working ...\n",
       "2                                        Nothing as such\n",
       "3                                        Nothing as such\n",
       "4                                        Nothing as such\n",
       "                             ...                        \n",
       "235                                      Nothing as such\n",
       "236    Missed days of work and school to attend conce...\n",
       "237    Listened to K-Pop without studying or working ...\n",
       "238                                      Nothing as such\n",
       "239                                      Nothing as such\n",
       "Name: crazy_thing, Length: 240, dtype: object>"
      ]
     },
     "execution_count": 51,
     "metadata": {},
     "output_type": "execute_result"
    }
   ],
   "source": [
    "df['crazy_thing'].value_counts"
   ]
  },
  {
   "cell_type": "code",
   "execution_count": 52,
   "id": "d0b3649a",
   "metadata": {},
   "outputs": [
    {
     "data": {
      "text/plain": [
       "crazy_thing\n",
       "nothing                                                                       133\n",
       "others (combinations of not studying/working and missing school/work, etc)     61\n",
       "didn't study or work                                                           46\n",
       "Name: count, dtype: int64"
      ]
     },
     "execution_count": 52,
     "metadata": {},
     "output_type": "execute_result"
    }
   ],
   "source": [
    "# Relabel\n",
    "crazy = df['crazy_thing']\n",
    "crazy_test = crazy\n",
    "\n",
    "crazy_test = crazy_test.apply(lambda x: x.lower())\n",
    "for row in range(0, len(df)):\n",
    "    if \"nothing\" in crazy_test.iloc[row] and \";\" not in crazy_test.iloc[row]:\n",
    "        crazy_test.iloc[row] = \"nothing\"\n",
    "    elif \"without studying or working\" in crazy_test.iloc[row] and \";\" not in crazy_test.iloc[row]:\n",
    "        crazy_test.iloc[row] = \"didn't study or work\"\n",
    "    elif \"Missed days\" in crazy_test.iloc[row]:\n",
    "        crazy_test.iloc[row] = \"missed school or work\"\n",
    "    else:\n",
    "        crazy_test.iloc[row] = \"others (combinations of not studying/working and missing school/work, etc)\"\n",
    "\n",
    "df['crazy_thing'] = crazy_test\n",
    "df['crazy_thing'].value_counts()"
   ]
  },
  {
   "cell_type": "markdown",
   "id": "bebfe6e8",
   "metadata": {},
   "source": [
    "### Clean the \"country\" column"
   ]
  },
  {
   "cell_type": "code",
   "execution_count": 53,
   "id": "e6f26b4f",
   "metadata": {},
   "outputs": [
    {
     "data": {
      "text/plain": [
       "country\n",
       "USA                             140\n",
       "A country in the UK              26\n",
       "Other European countries         18\n",
       "Canada                           15\n",
       "Latin America                     8\n",
       "Australia                         7\n",
       "Germany                           6\n",
       "France                            5\n",
       "Other Asian country               5\n",
       "New Zealand                       2\n",
       "South Africa                      2\n",
       "Sweden                            1\n",
       "Finland                           1\n",
       "CANNNAADAAAA BOIIIIIIS            1\n",
       "A country from the Caribbean      1\n",
       "canada                            1\n",
       "Turkey                            1\n",
       "Name: count, dtype: int64"
      ]
     },
     "execution_count": 53,
     "metadata": {},
     "output_type": "execute_result"
    }
   ],
   "source": [
    "df['country'].value_counts()"
   ]
  },
  {
   "cell_type": "code",
   "execution_count": 54,
   "id": "39838885",
   "metadata": {},
   "outputs": [
    {
     "data": {
      "text/plain": [
       "country\n",
       "usa                         140\n",
       "uk                           26\n",
       "other european countries     18\n",
       "canada                       17\n",
       "latin america                 8\n",
       "others                        8\n",
       "australia                     7\n",
       "germany                       6\n",
       "france                        5\n",
       "other asian countries         5\n",
       "Name: count, dtype: int64"
      ]
     },
     "execution_count": 54,
     "metadata": {},
     "output_type": "execute_result"
    }
   ],
   "source": [
    "#Relabe\n",
    "country = df['country']\n",
    "country_test = country\n",
    "\n",
    "country_test = country_test.apply(lambda x: x.lower())\n",
    "for row in range(0, len(df)):\n",
    "    if \"usa\" in country_test.iloc[row]:\n",
    "        country_test.iloc[row] = \"usa\"\n",
    "    elif \"uk\" in country_test.iloc[row]:\n",
    "        country_test.iloc[row] = \"uk\"\n",
    "    elif \"european\" in country_test.iloc[row]:\n",
    "        country_test.iloc[row] = \"other european countries\"\n",
    "    elif \"can\" in country_test.iloc[row]:\n",
    "        country_test.iloc[row] = \"canada\"\n",
    "    elif \"latin\" in country_test.iloc[row]:\n",
    "        country_test.iloc[row] = \"latin america\"\n",
    "    elif \"australia\" in country_test.iloc[row]:\n",
    "        country_test.iloc[row] = \"australia\"\n",
    "    elif \"germany\" in country_test.iloc[row]:\n",
    "        country_test.iloc[row] = \"germany\"\n",
    "    elif \"asian\" in country_test.iloc[row]:\n",
    "        country_test.iloc[row] = \"other asian countries\"\n",
    "    elif \"france\" in country_test.iloc[row]:\n",
    "        country_test.iloc[row] = \"france\"\n",
    "    else:\n",
    "        country_test.iloc[row] = \"others\"\n",
    "        \n",
    "df['country'] = country_test\n",
    "df['country'].value_counts()"
   ]
  },
  {
   "cell_type": "code",
   "execution_count": 55,
   "id": "bc323d4c",
   "metadata": {},
   "outputs": [
    {
     "data": {
      "text/html": [
       "<div>\n",
       "<style scoped>\n",
       "    .dataframe tbody tr th:only-of-type {\n",
       "        vertical-align: middle;\n",
       "    }\n",
       "\n",
       "    .dataframe tbody tr th {\n",
       "        vertical-align: top;\n",
       "    }\n",
       "\n",
       "    .dataframe thead th {\n",
       "        text-align: right;\n",
       "    }\n",
       "</style>\n",
       "<table border=\"1\" class=\"dataframe\">\n",
       "  <thead>\n",
       "    <tr style=\"text-align: right;\">\n",
       "      <th></th>\n",
       "      <th>fav_grp</th>\n",
       "      <th>popular</th>\n",
       "      <th>reason</th>\n",
       "      <th>start_time</th>\n",
       "      <th>gender_pref</th>\n",
       "      <th>daily_music_hr</th>\n",
       "      <th>watch_MV</th>\n",
       "      <th>daily_watch_hr</th>\n",
       "      <th>obsessed</th>\n",
       "      <th>news_medium</th>\n",
       "      <th>...</th>\n",
       "      <th>yr_spend</th>\n",
       "      <th>money_src</th>\n",
       "      <th>concerts</th>\n",
       "      <th>crazy_thing</th>\n",
       "      <th>age</th>\n",
       "      <th>country</th>\n",
       "      <th>career</th>\n",
       "      <th>gender</th>\n",
       "      <th>num_grp_like</th>\n",
       "      <th>bts_vs_others</th>\n",
       "    </tr>\n",
       "  </thead>\n",
       "  <tbody>\n",
       "    <tr>\n",
       "      <th>0</th>\n",
       "      <td>bts</td>\n",
       "      <td>its gaining popularity</td>\n",
       "      <td>its different from the usual music. i like som...</td>\n",
       "      <td>1.5</td>\n",
       "      <td>its about the music, not the gender</td>\n",
       "      <td>5</td>\n",
       "      <td>yes</td>\n",
       "      <td>2.5</td>\n",
       "      <td>not sure</td>\n",
       "      <td>youtube</td>\n",
       "      <td>...</td>\n",
       "      <td>75</td>\n",
       "      <td>full-time job</td>\n",
       "      <td>yes</td>\n",
       "      <td>others (combinations of not studying/working a...</td>\n",
       "      <td>18</td>\n",
       "      <td>uk</td>\n",
       "      <td>sales</td>\n",
       "      <td>female</td>\n",
       "      <td>1</td>\n",
       "      <td>bts</td>\n",
       "    </tr>\n",
       "    <tr>\n",
       "      <th>1</th>\n",
       "      <td>bts</td>\n",
       "      <td>its gaining popularity</td>\n",
       "      <td>its different from the usual music. i like som...</td>\n",
       "      <td>3.5</td>\n",
       "      <td>i listen to both</td>\n",
       "      <td>3</td>\n",
       "      <td>yes</td>\n",
       "      <td>2.5</td>\n",
       "      <td>yes</td>\n",
       "      <td>youtube</td>\n",
       "      <td>...</td>\n",
       "      <td>50</td>\n",
       "      <td>others (gift, scholarship, etc)</td>\n",
       "      <td>i want to, but the k-pop groups don't come to ...</td>\n",
       "      <td>others (combinations of not studying/working a...</td>\n",
       "      <td>18</td>\n",
       "      <td>uk</td>\n",
       "      <td>student</td>\n",
       "      <td>female</td>\n",
       "      <td>1</td>\n",
       "      <td>bts</td>\n",
       "    </tr>\n",
       "    <tr>\n",
       "      <th>2</th>\n",
       "      <td>bts,monsta x</td>\n",
       "      <td>its gaining popularity</td>\n",
       "      <td>its different from the usual music. i like som...</td>\n",
       "      <td>4</td>\n",
       "      <td>its about the music, not the gender</td>\n",
       "      <td>3</td>\n",
       "      <td>yes</td>\n",
       "      <td>2.5</td>\n",
       "      <td>no</td>\n",
       "      <td>social media (twitter, instagram)</td>\n",
       "      <td>...</td>\n",
       "      <td>75</td>\n",
       "      <td>others (gift, scholarship, etc)</td>\n",
       "      <td>yes</td>\n",
       "      <td>nothing</td>\n",
       "      <td>18</td>\n",
       "      <td>other european countries</td>\n",
       "      <td>student</td>\n",
       "      <td>female</td>\n",
       "      <td>2</td>\n",
       "      <td>bts</td>\n",
       "    </tr>\n",
       "    <tr>\n",
       "      <th>3</th>\n",
       "      <td>bts</td>\n",
       "      <td>its gaining popularity</td>\n",
       "      <td>its different from the usual music. i like som...</td>\n",
       "      <td>3.5</td>\n",
       "      <td>i listen to both</td>\n",
       "      <td>5</td>\n",
       "      <td>yes</td>\n",
       "      <td>3.5</td>\n",
       "      <td>no</td>\n",
       "      <td>youtube</td>\n",
       "      <td>...</td>\n",
       "      <td>75</td>\n",
       "      <td>others (gift, scholarship, etc)</td>\n",
       "      <td>yes</td>\n",
       "      <td>nothing</td>\n",
       "      <td>24</td>\n",
       "      <td>usa</td>\n",
       "      <td>student</td>\n",
       "      <td>female</td>\n",
       "      <td>1</td>\n",
       "      <td>bts</td>\n",
       "    </tr>\n",
       "    <tr>\n",
       "      <th>4</th>\n",
       "      <td>bts</td>\n",
       "      <td>yes</td>\n",
       "      <td>its different from the usual music. i like som...</td>\n",
       "      <td>3.5</td>\n",
       "      <td>yes</td>\n",
       "      <td>5</td>\n",
       "      <td>yes</td>\n",
       "      <td>2.5</td>\n",
       "      <td>not sure</td>\n",
       "      <td>youtube</td>\n",
       "      <td>...</td>\n",
       "      <td>150</td>\n",
       "      <td>from parents</td>\n",
       "      <td>i want to, but the k-pop groups don't come to ...</td>\n",
       "      <td>nothing</td>\n",
       "      <td>18</td>\n",
       "      <td>usa</td>\n",
       "      <td>student</td>\n",
       "      <td>female</td>\n",
       "      <td>1</td>\n",
       "      <td>bts</td>\n",
       "    </tr>\n",
       "  </tbody>\n",
       "</table>\n",
       "<p>5 rows × 24 columns</p>\n",
       "</div>"
      ],
      "text/plain": [
       "        fav_grp                 popular  \\\n",
       "0           bts  its gaining popularity   \n",
       "1           bts  its gaining popularity   \n",
       "2  bts,monsta x  its gaining popularity   \n",
       "3           bts  its gaining popularity   \n",
       "4           bts                     yes   \n",
       "\n",
       "                                              reason start_time  \\\n",
       "0  its different from the usual music. i like som...        1.5   \n",
       "1  its different from the usual music. i like som...        3.5   \n",
       "2  its different from the usual music. i like som...          4   \n",
       "3  its different from the usual music. i like som...        3.5   \n",
       "4  its different from the usual music. i like som...        3.5   \n",
       "\n",
       "                           gender_pref daily_music_hr watch_MV daily_watch_hr  \\\n",
       "0  its about the music, not the gender              5      yes            2.5   \n",
       "1                     i listen to both              3      yes            2.5   \n",
       "2  its about the music, not the gender              3      yes            2.5   \n",
       "3                     i listen to both              5      yes            3.5   \n",
       "4                                  yes              5      yes            2.5   \n",
       "\n",
       "   obsessed                        news_medium  ... yr_spend  \\\n",
       "0  not sure                            youtube  ...       75   \n",
       "1       yes                            youtube  ...       50   \n",
       "2        no  social media (twitter, instagram)  ...       75   \n",
       "3        no                            youtube  ...       75   \n",
       "4  not sure                            youtube  ...      150   \n",
       "\n",
       "                         money_src  \\\n",
       "0                    full-time job   \n",
       "1  others (gift, scholarship, etc)   \n",
       "2  others (gift, scholarship, etc)   \n",
       "3  others (gift, scholarship, etc)   \n",
       "4                     from parents   \n",
       "\n",
       "                                            concerts  \\\n",
       "0                                                yes   \n",
       "1  i want to, but the k-pop groups don't come to ...   \n",
       "2                                                yes   \n",
       "3                                                yes   \n",
       "4  i want to, but the k-pop groups don't come to ...   \n",
       "\n",
       "                                         crazy_thing age  \\\n",
       "0  others (combinations of not studying/working a...  18   \n",
       "1  others (combinations of not studying/working a...  18   \n",
       "2                                            nothing  18   \n",
       "3                                            nothing  24   \n",
       "4                                            nothing  18   \n",
       "\n",
       "                    country   career  gender num_grp_like bts_vs_others  \n",
       "0                        uk    sales  female            1           bts  \n",
       "1                        uk  student  female            1           bts  \n",
       "2  other european countries  student  female            2           bts  \n",
       "3                       usa  student  female            1           bts  \n",
       "4                       usa  student  female            1           bts  \n",
       "\n",
       "[5 rows x 24 columns]"
      ]
     },
     "execution_count": 55,
     "metadata": {},
     "output_type": "execute_result"
    }
   ],
   "source": [
    "#Change the entire dataframe to lowercase\n",
    "df = df.apply(lambda x: x.astype(str).str.lower())\n",
    "df.head()"
   ]
  },
  {
   "cell_type": "code",
   "execution_count": 56,
   "id": "2d7422d2",
   "metadata": {},
   "outputs": [],
   "source": [
    "df.to_csv(\"cleaned Kpop data.csv\", index = False)"
   ]
  },
  {
   "cell_type": "code",
   "execution_count": null,
   "id": "4267bd46",
   "metadata": {},
   "outputs": [],
   "source": []
  }
 ],
 "metadata": {
  "kernelspec": {
   "display_name": "Python 3 (ipykernel)",
   "language": "python",
   "name": "python3"
  },
  "language_info": {
   "codemirror_mode": {
    "name": "ipython",
    "version": 3
   },
   "file_extension": ".py",
   "mimetype": "text/x-python",
   "name": "python",
   "nbconvert_exporter": "python",
   "pygments_lexer": "ipython3",
   "version": "3.11.5"
  }
 },
 "nbformat": 4,
 "nbformat_minor": 5
}
